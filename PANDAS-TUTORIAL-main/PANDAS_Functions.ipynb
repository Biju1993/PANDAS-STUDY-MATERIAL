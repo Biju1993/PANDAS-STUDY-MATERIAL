{
 "cells": [
  {
   "cell_type": "markdown",
   "id": "acf2a70e",
   "metadata": {},
   "source": [
    "# Python Pandas"
   ]
  },
  {
   "cell_type": "markdown",
   "id": "137f09b2",
   "metadata": {},
   "source": [
    "Pandas is a Python library comprising high-level data structures and tools that has designed to help Python programmers to implement robust data analysis. The utmost purpose of Pandas is to help us identify intelligence in data. Pandas is in practice in a wide range of academic and commercial domains, including finance, neurosciences, economics, statistics, advertising, and web analytic.\n",
    "Pandas has become one of the most favored tools for data scientists to illustrate data for manipulation and analysis. Pandas is generally used in unit with numerical computing tools like NumPy and SciPy, analytical libraries such as statsmodels and scikit-learn, and data visualization libraries such as matplotlib.\n",
    "\n"
   ]
  },
  {
   "cell_type": "markdown",
   "id": "8c47cfed",
   "metadata": {},
   "source": [
    "# How to create a pandas Series using lists and dictionaries?"
   ]
  },
  {
   "cell_type": "markdown",
   "id": "f9f8262a",
   "metadata": {},
   "source": [
    "## Creating Series using list:"
   ]
  },
  {
   "cell_type": "code",
   "execution_count": 1,
   "id": "eaf9c642",
   "metadata": {},
   "outputs": [
    {
     "name": "stdout",
     "output_type": "stream",
     "text": [
      "0    1.5\n",
      "1    2.5\n",
      "2    3.0\n",
      "3    4.5\n",
      "4    5.0\n",
      "5    6.0\n",
      "dtype: float64\n"
     ]
    }
   ],
   "source": [
    "import pandas as pd\n",
    " \n",
    "ser1 = pd.Series([1.5, 2.5, 3, 4.5, 5.0, 6])\n",
    "print(ser1)"
   ]
  },
  {
   "cell_type": "markdown",
   "id": "6fb32fff",
   "metadata": {},
   "source": [
    "## Creating Series of string values with name:"
   ]
  },
  {
   "cell_type": "code",
   "execution_count": 2,
   "id": "fec6b01c",
   "metadata": {},
   "outputs": [
    {
     "name": "stdout",
     "output_type": "stream",
     "text": [
      "0      India\n",
      "1     Canada\n",
      "2    Germany\n",
      "Name: Countries, dtype: object\n"
     ]
    }
   ],
   "source": [
    "\n",
    "import pandas as pd\n",
    " \n",
    "ser2 = pd.Series([\"India\", \"Canada\", \"Germany\"], name=\"Countries\")\n",
    "print(ser2)"
   ]
  },
  {
   "cell_type": "markdown",
   "id": "a29e940c",
   "metadata": {},
   "source": [
    "## Python shorthand for list creation used to create Series:"
   ]
  },
  {
   "cell_type": "code",
   "execution_count": 3,
   "id": "477b5198",
   "metadata": {},
   "outputs": [
    {
     "name": "stdout",
     "output_type": "stream",
     "text": [
      "0    A\n",
      "1    A\n",
      "2    A\n",
      "3    A\n",
      "dtype: object\n"
     ]
    }
   ],
   "source": [
    "import pandas as pd\n",
    " \n",
    "ser3 = pd.Series([\"A\"]*4)\n",
    "print(ser3)"
   ]
  },
  {
   "cell_type": "markdown",
   "id": "49a6ad05",
   "metadata": {},
   "source": [
    "## Creating Series using dictionary:"
   ]
  },
  {
   "cell_type": "code",
   "execution_count": 4,
   "id": "b617e51c",
   "metadata": {},
   "outputs": [
    {
     "name": "stdout",
     "output_type": "stream",
     "text": [
      "India    New Delhi\n",
      "Japan        Tokyo\n",
      "UK          London\n",
      "dtype: object\n"
     ]
    }
   ],
   "source": [
    "import pandas as pd\n",
    " \n",
    "ser4 = pd.Series({\"India\": \"New Delhi\",\n",
    "                  \"Japan\": \"Tokyo\",\n",
    "                  \"UK\": \"London\"})\n",
    "print(ser4)"
   ]
  },
  {
   "cell_type": "markdown",
   "id": "45c1fb3a",
   "metadata": {},
   "source": [
    "# How to create series using NumPy functions in Pandas?"
   ]
  },
  {
   "cell_type": "markdown",
   "id": "e61beb43",
   "metadata": {},
   "source": [
    "## Create series using NumPy functions:"
   ]
  },
  {
   "cell_type": "code",
   "execution_count": 5,
   "id": "29ff03a9",
   "metadata": {},
   "outputs": [
    {
     "name": "stdout",
     "output_type": "stream",
     "text": [
      "0     1.00\n",
      "1     3.25\n",
      "2     5.50\n",
      "3     7.75\n",
      "4    10.00\n",
      "dtype: float64\n",
      "0   -0.352547\n",
      "1    0.714739\n",
      "2   -0.757363\n",
      "3    0.977834\n",
      "4    0.688960\n",
      "dtype: float64\n"
     ]
    }
   ],
   "source": [
    "import pandas as pd\n",
    "import numpy as np\n",
    " \n",
    "ser1 = pd.Series(np.linspace(1, 10, 5))\n",
    "print(ser1)\n",
    " \n",
    "ser2 = pd.Series(np.random.normal(size=5))\n",
    "print(ser2)"
   ]
  },
  {
   "cell_type": "markdown",
   "id": "fd3da915",
   "metadata": {},
   "source": [
    "## How to get index and values of series in Pandas?"
   ]
  },
  {
   "cell_type": "markdown",
   "id": "d1d8e8cc",
   "metadata": {},
   "source": [
    "## .index and .values of series:"
   ]
  },
  {
   "cell_type": "code",
   "execution_count": 6,
   "id": "e00a0ecb",
   "metadata": {},
   "outputs": [
    {
     "name": "stdout",
     "output_type": "stream",
     "text": [
      "['New Delhi' 'Tokyo' 'London']\n",
      "Index(['India', 'Japan', 'UK'], dtype='object')\n",
      "\n",
      "\n",
      "RangeIndex(start=0, stop=5, step=1)\n",
      "[-0.49781967  0.64033017 -0.82969163  1.67460573 -0.08804577]\n"
     ]
    }
   ],
   "source": [
    "\n",
    "import pandas as pd\n",
    "import numpy as np\n",
    " \n",
    "ser1 = pd.Series({\"India\": \"New Delhi\",\n",
    "                  \"Japan\": \"Tokyo\",\n",
    "                  \"UK\": \"London\"})\n",
    " \n",
    "print(ser1.values)\n",
    "print(ser1.index)\n",
    " \n",
    "print(\"\\n\")\n",
    " \n",
    "ser2 = pd.Series(np.random.normal(size=5))\n",
    "print(ser2.index)\n",
    "print(ser2.values)"
   ]
  },
  {
   "cell_type": "markdown",
   "id": "34d960a0",
   "metadata": {},
   "source": [
    "## How to specify an index while creating Series in Pandas?"
   ]
  },
  {
   "cell_type": "markdown",
   "id": "bdd7040b",
   "metadata": {},
   "source": [
    "## Specify an index at Series creation:"
   ]
  },
  {
   "cell_type": "code",
   "execution_count": 7,
   "id": "73ca66a8",
   "metadata": {},
   "outputs": [
    {
     "name": "stdout",
     "output_type": "stream",
     "text": [
      "IND        India\n",
      "CAN       Canada\n",
      "AUS    Australia\n",
      "JAP        Japan\n",
      "GER      Germany\n",
      "FRA       France\n",
      "dtype: object\n"
     ]
    }
   ],
   "source": [
    "import pandas as pd\n",
    " \n",
    "values = [\"India\", \"Canada\", \"Australia\",\n",
    "          \"Japan\", \"Germany\", \"France\"]\n",
    " \n",
    "code = [\"IND\", \"CAN\", \"AUS\", \"JAP\", \"GER\", \"FRA\"]\n",
    " \n",
    "ser1 = pd.Series(values,index=code)\n",
    " \n",
    "print(ser1)"
   ]
  },
  {
   "cell_type": "markdown",
   "id": "78c53a04",
   "metadata": {},
   "source": [
    "## How to get Length Size and Shape of a Series in Pandas?"
   ]
  },
  {
   "cell_type": "markdown",
   "id": "67130549",
   "metadata": {},
   "source": [
    "## Get Length Size and Shape of a Series:"
   ]
  },
  {
   "cell_type": "code",
   "execution_count": 8,
   "id": "ecbed8a5",
   "metadata": {},
   "outputs": [
    {
     "name": "stdout",
     "output_type": "stream",
     "text": [
      "6\n",
      "(6,)\n",
      "6\n"
     ]
    }
   ],
   "source": [
    "import pandas as pd\n",
    " \n",
    "values = [\"India\", \"Canada\", \"Australia\",\n",
    "          \"Japan\", \"Germany\", \"France\"]\n",
    " \n",
    "code = [\"IND\", \"CAN\", \"AUS\", \"JAP\", \"GER\", \"FRA\"]\n",
    " \n",
    "ser1 = pd.Series(values, index=code)\n",
    " \n",
    "print(len(ser1))\n",
    " \n",
    "print(ser1.shape)\n",
    " \n",
    "print(ser1.size)"
   ]
  },
  {
   "cell_type": "markdown",
   "id": "eeab1b09",
   "metadata": {},
   "source": [
    "# Tricks of Slicing a Series into subsets in Pandas"
   ]
  },
  {
   "cell_type": "markdown",
   "id": "b006e3d1",
   "metadata": {},
   "source": [
    "## Slicing a Series into subsets"
   ]
  },
  {
   "cell_type": "markdown",
   "id": "ae80f093",
   "metadata": {},
   "source": [
    "Slicing is a powerful approach to retrieve subsets of data from a pandas object. A slice object is built using a syntax of start:end:step, the segments representing the first item, last item, and the increment between each item that you would like as the step."
   ]
  },
  {
   "cell_type": "code",
   "execution_count": 9,
   "id": "c725649a",
   "metadata": {},
   "outputs": [
    {
     "name": "stdout",
     "output_type": "stream",
     "text": [
      "\n",
      " [2:2] \n",
      "\n",
      "C    200\n",
      "D    300\n",
      "dtype: int64\n",
      "\n",
      " [1:8:3] \n",
      "\n",
      "B    100\n",
      "E    400\n",
      "H    700\n",
      "dtype: int64\n",
      "\n",
      " [:6] \n",
      "\n",
      "A      0\n",
      "B    100\n",
      "C    200\n",
      "D    300\n",
      "E    400\n",
      "F    500\n",
      "dtype: int64\n",
      "\n",
      " [4:] \n",
      "\n",
      "E    400\n",
      "F    500\n",
      "G    600\n",
      "H    700\n",
      "I    800\n",
      "J    900\n",
      "dtype: int64\n",
      "\n",
      " [:4:2] \n",
      "\n",
      "A      0\n",
      "C    200\n",
      "dtype: int64\n",
      "\n",
      " [4::2] \n",
      "\n",
      "E    400\n",
      "G    600\n",
      "I    800\n",
      "dtype: int64\n",
      "\n",
      " [::-1] \n",
      "\n",
      "J    900\n",
      "I    800\n",
      "H    700\n",
      "G    600\n",
      "F    500\n",
      "E    400\n",
      "D    300\n",
      "C    200\n",
      "B    100\n",
      "A      0\n",
      "dtype: int64\n"
     ]
    }
   ],
   "source": [
    "import pandas as pd\n",
    " \n",
    "num = [000, 100, 200, 300, 400, 500, 600, 700, 800, 900]\n",
    " \n",
    "idx = ['A', 'B', 'C', 'D', 'E', 'F', 'G', 'H', 'I', 'J']\n",
    " \n",
    "series = pd.Series(num, index=idx)\n",
    " \n",
    "print(\"\\n [2:2] \\n\")\n",
    "print(series[2:4])\n",
    " \n",
    "print(\"\\n [1:8:3] \\n\")\n",
    "print(series[1:8:3])\n",
    " \n",
    "print(\"\\n [:6] \\n\")\n",
    "print(series[:6])\n",
    " \n",
    "print(\"\\n [4:] \\n\")\n",
    "print(series[4:])\n",
    " \n",
    "print(\"\\n [:4:2] \\n\")\n",
    "print(series[:4:2])\n",
    " \n",
    "print(\"\\n [4::2] \\n\")\n",
    "print(series[4::2])\n",
    " \n",
    "print(\"\\n [::-1] \\n\")\n",
    "print(series[::-1])"
   ]
  },
  {
   "cell_type": "markdown",
   "id": "2884d94d",
   "metadata": {},
   "source": [
    "# How to get the first or last few rows from a Series in Pandas?"
   ]
  },
  {
   "cell_type": "markdown",
   "id": "a0379d01",
   "metadata": {},
   "source": [
    "## Example of Head():"
   ]
  },
  {
   "cell_type": "code",
   "execution_count": 10,
   "id": "384576a4",
   "metadata": {},
   "outputs": [
    {
     "name": "stdout",
     "output_type": "stream",
     "text": [
      "-----Head()-----\n",
      "IND        India\n",
      "CAN       Canada\n",
      "AUS    Australia\n",
      "JAP        Japan\n",
      "GER      Germany\n",
      "dtype: object\n",
      "\n",
      "\n",
      "-----Head(3)-----\n",
      "IND        India\n",
      "CAN       Canada\n",
      "AUS    Australia\n",
      "dtype: object\n"
     ]
    }
   ],
   "source": [
    "import pandas as pd\n",
    " \n",
    "values = [\"India\", \"Canada\", \"Australia\",\n",
    "          \"Japan\", \"Germany\", \"France\"]\n",
    " \n",
    "code = [\"IND\", \"CAN\", \"AUS\", \"JAP\", \"GER\", \"FRA\"]\n",
    " \n",
    "ser1 = pd.Series(values, index=code)\n",
    " \n",
    "print(\"-----Head()-----\")\n",
    "print(ser1.head())\n",
    " \n",
    "print(\"\\n\\n-----Head(3)-----\")\n",
    "print(ser1.head(3))"
   ]
  },
  {
   "cell_type": "markdown",
   "id": "73c47fb0",
   "metadata": {},
   "source": [
    "## Example of Tail():"
   ]
  },
  {
   "cell_type": "code",
   "execution_count": 11,
   "id": "0b4dd6dd",
   "metadata": {},
   "outputs": [
    {
     "name": "stdout",
     "output_type": "stream",
     "text": [
      "-----tail()-----\n",
      "CAN       Canada\n",
      "AUS    Australia\n",
      "JAP        Japan\n",
      "GER      Germany\n",
      "FRA       France\n",
      "dtype: object\n",
      "\n",
      "\n",
      "-----tail(2)-----\n",
      "GER    Germany\n",
      "FRA     France\n",
      "dtype: object\n"
     ]
    }
   ],
   "source": [
    "import pandas as pd\n",
    " \n",
    "values = [\"India\", \"Canada\", \"Australia\",\n",
    "          \"Japan\", \"Germany\", \"France\"]\n",
    " \n",
    "code = [\"IND\", \"CAN\", \"AUS\", \"JAP\", \"GER\", \"FRA\"]\n",
    " \n",
    "ser1 = pd.Series(values, index=code)\n",
    " \n",
    "print(\"-----tail()-----\")\n",
    "print(ser1.tail())\n",
    " \n",
    "print(\"\\n\\n-----tail(2)-----\")\n",
    "print(ser1.tail(2))"
   ]
  },
  {
   "cell_type": "markdown",
   "id": "38111f4f",
   "metadata": {},
   "source": [
    "## Example of Take():"
   ]
  },
  {
   "cell_type": "code",
   "execution_count": 12,
   "id": "b736de4d",
   "metadata": {},
   "outputs": [
    {
     "name": "stdout",
     "output_type": "stream",
     "text": [
      "-----Take()-----\n",
      "AUS    Australia\n",
      "GER      Germany\n",
      "FRA       France\n",
      "dtype: object\n"
     ]
    }
   ],
   "source": [
    "import pandas as pd\n",
    " \n",
    "values = [\"India\", \"Canada\", \"Australia\",\n",
    "          \"Japan\", \"Germany\", \"France\"]\n",
    " \n",
    "code = [\"IND\", \"CAN\", \"AUS\", \"JAP\", \"GER\", \"FRA\"]\n",
    " \n",
    "ser1 = pd.Series(values, index=code)\n",
    " \n",
    "print(\"-----Take()-----\")\n",
    "print(ser1.take([2, 4, 5]))"
   ]
  },
  {
   "cell_type": "markdown",
   "id": "913de88d",
   "metadata": {},
   "source": [
    "## How to create and print DataFrame in pandas?"
   ]
  },
  {
   "cell_type": "code",
   "execution_count": 13,
   "id": "97cf7aae",
   "metadata": {},
   "outputs": [
    {
     "data": {
      "text/html": [
       "<div>\n",
       "<style scoped>\n",
       "    .dataframe tbody tr th:only-of-type {\n",
       "        vertical-align: middle;\n",
       "    }\n",
       "\n",
       "    .dataframe tbody tr th {\n",
       "        vertical-align: top;\n",
       "    }\n",
       "\n",
       "    .dataframe thead th {\n",
       "        text-align: right;\n",
       "    }\n",
       "</style>\n",
       "<table border=\"1\" class=\"dataframe\">\n",
       "  <thead>\n",
       "    <tr style=\"text-align: right;\">\n",
       "      <th></th>\n",
       "      <th>EmpCode</th>\n",
       "      <th>Name</th>\n",
       "      <th>Occupation</th>\n",
       "      <th>Date Of Join</th>\n",
       "      <th>Age</th>\n",
       "    </tr>\n",
       "  </thead>\n",
       "  <tbody>\n",
       "    <tr>\n",
       "      <th>0</th>\n",
       "      <td>Emp001</td>\n",
       "      <td>John Doe</td>\n",
       "      <td>Chemist</td>\n",
       "      <td>2018-01-25</td>\n",
       "      <td>23</td>\n",
       "    </tr>\n",
       "    <tr>\n",
       "      <th>1</th>\n",
       "      <td>Emp00</td>\n",
       "      <td>William Spark</td>\n",
       "      <td>Statistician</td>\n",
       "      <td>2018-01-26</td>\n",
       "      <td>24</td>\n",
       "    </tr>\n",
       "  </tbody>\n",
       "</table>\n",
       "</div>"
      ],
      "text/plain": [
       "  EmpCode           Name    Occupation Date Of Join  Age\n",
       "0  Emp001       John Doe       Chemist   2018-01-25   23\n",
       "1   Emp00  William Spark  Statistician   2018-01-26   24"
      ]
     },
     "execution_count": 13,
     "metadata": {},
     "output_type": "execute_result"
    }
   ],
   "source": [
    "import pandas as pd\n",
    " \n",
    "employees = pd.DataFrame({\n",
    "    'EmpCode': ['Emp001', 'Emp00'],\n",
    "    'Name': ['John Doe', 'William Spark'],\n",
    "    'Occupation': ['Chemist', 'Statistician'],\n",
    "    'Date Of Join': ['2018-01-25', '2018-01-26'],\n",
    "    'Age': [23, 24]})\n",
    " \n",
    "employees"
   ]
  },
  {
   "cell_type": "markdown",
   "id": "2f8be2ec",
   "metadata": {},
   "source": [
    "## How to set Index and Columns in Pandas DataFrame?"
   ]
  },
  {
   "cell_type": "code",
   "execution_count": 14,
   "id": "42010d24",
   "metadata": {},
   "outputs": [
    {
     "data": {
      "text/html": [
       "<div>\n",
       "<style scoped>\n",
       "    .dataframe tbody tr th:only-of-type {\n",
       "        vertical-align: middle;\n",
       "    }\n",
       "\n",
       "    .dataframe tbody tr th {\n",
       "        vertical-align: top;\n",
       "    }\n",
       "\n",
       "    .dataframe thead th {\n",
       "        text-align: right;\n",
       "    }\n",
       "</style>\n",
       "<table border=\"1\" class=\"dataframe\">\n",
       "  <thead>\n",
       "    <tr style=\"text-align: right;\">\n",
       "      <th></th>\n",
       "      <th>Name</th>\n",
       "      <th>Occupation</th>\n",
       "      <th>Date Of Join</th>\n",
       "      <th>Age</th>\n",
       "    </tr>\n",
       "  </thead>\n",
       "  <tbody>\n",
       "    <tr>\n",
       "      <th>Emp001</th>\n",
       "      <td>John Doe</td>\n",
       "      <td>Chemist</td>\n",
       "      <td>2018-01-25</td>\n",
       "      <td>23</td>\n",
       "    </tr>\n",
       "    <tr>\n",
       "      <th>Emp002</th>\n",
       "      <td>William Spark</td>\n",
       "      <td>Statistician</td>\n",
       "      <td>2018-01-26</td>\n",
       "      <td>24</td>\n",
       "    </tr>\n",
       "  </tbody>\n",
       "</table>\n",
       "</div>"
      ],
      "text/plain": [
       "                 Name    Occupation Date Of Join  Age\n",
       "Emp001       John Doe       Chemist   2018-01-25   23\n",
       "Emp002  William Spark  Statistician   2018-01-26   24"
      ]
     },
     "execution_count": 14,
     "metadata": {},
     "output_type": "execute_result"
    }
   ],
   "source": [
    "import pandas as pd\n",
    " \n",
    "employees = pd.DataFrame(\n",
    "    data={'Name': ['John Doe', 'William Spark'],\n",
    "          'Occupation': ['Chemist', 'Statistician'],\n",
    "          'Date Of Join': ['2018-01-25', '2018-01-26'],\n",
    "          'Age': [23, 24]},\n",
    "    index=['Emp001', 'Emp002'],\n",
    "    columns=['Name', 'Occupation', 'Date Of Join', 'Age'])\n",
    " \n",
    "employees"
   ]
  },
  {
   "cell_type": "markdown",
   "id": "311269c9",
   "metadata": {},
   "source": [
    "## How to rename DataFrame columns name in pandas?"
   ]
  },
  {
   "cell_type": "code",
   "execution_count": 15,
   "id": "abfcefe3",
   "metadata": {},
   "outputs": [
    {
     "data": {
      "text/html": [
       "<div>\n",
       "<style scoped>\n",
       "    .dataframe tbody tr th:only-of-type {\n",
       "        vertical-align: middle;\n",
       "    }\n",
       "\n",
       "    .dataframe tbody tr th {\n",
       "        vertical-align: top;\n",
       "    }\n",
       "\n",
       "    .dataframe thead th {\n",
       "        text-align: right;\n",
       "    }\n",
       "</style>\n",
       "<table border=\"1\" class=\"dataframe\">\n",
       "  <thead>\n",
       "    <tr style=\"text-align: right;\">\n",
       "      <th></th>\n",
       "      <th>EmpCode</th>\n",
       "      <th>EmpName</th>\n",
       "      <th>EmpOccupation</th>\n",
       "      <th>EmpDOJ</th>\n",
       "      <th>EmpAge</th>\n",
       "    </tr>\n",
       "  </thead>\n",
       "  <tbody>\n",
       "    <tr>\n",
       "      <th>0</th>\n",
       "      <td>Emp001</td>\n",
       "      <td>John Doe</td>\n",
       "      <td>Chemist</td>\n",
       "      <td>2018-01-25</td>\n",
       "      <td>23</td>\n",
       "    </tr>\n",
       "    <tr>\n",
       "      <th>1</th>\n",
       "      <td>Emp00</td>\n",
       "      <td>William Spark</td>\n",
       "      <td>Statistician</td>\n",
       "      <td>2018-01-26</td>\n",
       "      <td>24</td>\n",
       "    </tr>\n",
       "  </tbody>\n",
       "</table>\n",
       "</div>"
      ],
      "text/plain": [
       "  EmpCode        EmpName EmpOccupation      EmpDOJ  EmpAge\n",
       "0  Emp001       John Doe       Chemist  2018-01-25      23\n",
       "1   Emp00  William Spark  Statistician  2018-01-26      24"
      ]
     },
     "execution_count": 15,
     "metadata": {},
     "output_type": "execute_result"
    }
   ],
   "source": [
    "import pandas as pd\n",
    " \n",
    "employees = pd.DataFrame({\n",
    "    'EmpCode': ['Emp001', 'Emp00'],\n",
    "    'Name': ['John Doe', 'William Spark'],\n",
    "    'Occupation': ['Chemist', 'Statistician'],\n",
    "    'Date Of Join': ['2018-01-25', '2018-01-26'],\n",
    "    'Age': [23, 24]})\n",
    " \n",
    "employees.columns = ['EmpCode', 'EmpName', 'EmpOccupation', 'EmpDOJ', 'EmpAge']\n",
    " \n",
    "employees"
   ]
  },
  {
   "cell_type": "markdown",
   "id": "737e80c7",
   "metadata": {},
   "source": [
    "# How to select or filter rows from a DataFrame based on values in columns in pandas?"
   ]
  },
  {
   "cell_type": "markdown",
   "id": "54ce7bf7",
   "metadata": {},
   "source": [
    "## Basic ways to select rows from a pandas dataframe:\n"
   ]
  },
  {
   "cell_type": "markdown",
   "id": "91d5fe95",
   "metadata": {},
   "source": [
    "# import pandas as pd\n",
    " \n",
    "employees = pd.DataFrame({\n",
    "    'EmpCode': ['Emp001', 'Emp002', 'Emp003', 'Emp004', 'Emp005'],\n",
    "    'Name': ['John', 'Doe', 'William', 'Spark', 'Mark'],\n",
    "    'Occupation': ['Chemist', 'Statistician', 'Statistician',\n",
    "                   'Statistician', 'Programmer'],\n",
    "    'Date Of Join': ['2018-01-25', '2018-01-26', '2018-01-26', '2018-02-26',\n",
    "                     '2018-03-16'],\n",
    "    'Age': [23, 24, 34, 29, 40]})\n",
    " \n",
    "print(\"\\nUse == operator\\n\")\n",
    "print(employees.loc[employees['Age'] == 23])\n",
    " \n",
    "print(\"\\nUse < operator\\n\")\n",
    "print(employees.loc[employees['Age'] < 30])\n",
    " \n",
    "print(\"\\nUse != operator\\n\")\n",
    "print(employees.loc[employees['Occupation'] != 'Statistician'])\n",
    " \n",
    "print(\"\\nMultiple Conditions\\n\")\n",
    "print(employees.loc[(employees['Occupation'] != 'Statistician') &\n",
    "                    (employees['Name'] == 'John')])"
   ]
  },
  {
   "cell_type": "markdown",
   "id": "28630afc",
   "metadata": {},
   "source": [
    "# Filter multiple rows using isin in DataFrame\n"
   ]
  },
  {
   "cell_type": "markdown",
   "id": "d3582cf8",
   "metadata": {},
   "source": [
    "## Filter rows using \"isin\" and multiple conditions:\n"
   ]
  },
  {
   "cell_type": "code",
   "execution_count": 16,
   "id": "f937b159",
   "metadata": {},
   "outputs": [
    {
     "name": "stdout",
     "output_type": "stream",
     "text": [
      "\n",
      "Use isin operator\n",
      "\n",
      "  EmpCode  Name  Occupation Date Of Join  Age\n",
      "0  Emp001  John     Chemist   2018-01-25   23\n",
      "4  Emp005  Mark  Programmer   2018-03-16   40\n",
      "\n",
      "Multiple Conditions\n",
      "\n",
      "  EmpCode  Name Occupation Date Of Join  Age\n",
      "0  Emp001  John    Chemist   2018-01-25   23\n"
     ]
    }
   ],
   "source": [
    "import pandas as pd\n",
    " \n",
    "employees = pd.DataFrame({\n",
    "    'EmpCode': ['Emp001', 'Emp002', 'Emp003', 'Emp004', 'Emp005'],\n",
    "    'Name': ['John', 'Doe', 'William', 'Spark', 'Mark'],\n",
    "    'Occupation': ['Chemist', 'Statistician', 'Statistician',\n",
    "                   'Statistician', 'Programmer'],\n",
    "    'Date Of Join': ['2018-01-25', '2018-01-26', '2018-01-26', '2018-02-26',\n",
    "                     '2018-03-16'],\n",
    "    'Age': [23, 24, 34, 29, 40]})\n",
    " \n",
    "print(\"\\nUse isin operator\\n\")\n",
    "print(employees.loc[employees['Occupation'].isin(['Chemist','Programmer'])])\n",
    " \n",
    "print(\"\\nMultiple Conditions\\n\")\n",
    "print(employees.loc[(employees['Occupation'] == 'Chemist') |\n",
    "                    (employees['Name'] == 'John') &\n",
    "                    (employees['Age'] < 30)])"
   ]
  },
  {
   "cell_type": "markdown",
   "id": "2db6defe",
   "metadata": {},
   "source": [
    "# Iterate over rows and columns pandas DataFrame\n"
   ]
  },
  {
   "cell_type": "markdown",
   "id": "7e1b72a6",
   "metadata": {},
   "source": [
    "## Example of iterrows and itertuples:\n"
   ]
  },
  {
   "cell_type": "code",
   "execution_count": 17,
   "id": "b799cbf8",
   "metadata": {},
   "outputs": [
    {
     "name": "stdout",
     "output_type": "stream",
     "text": [
      "\n",
      " Example iterrows \n",
      "\n",
      "Chemist -- 23\n",
      "Statistician -- 24\n",
      "Statistician -- 34\n",
      "Statistician -- 29\n",
      "Programmer -- 40\n",
      "\n",
      " Example itertuples \n",
      "\n",
      "John -- 23\n",
      "Doe -- 24\n",
      "William -- 34\n",
      "Spark -- 29\n",
      "Mark -- 40\n"
     ]
    }
   ],
   "source": [
    "import pandas as pd\n",
    " \n",
    "employees = pd.DataFrame({\n",
    "    'EmpCode': ['Emp001', 'Emp002', 'Emp003', 'Emp004', 'Emp005'],\n",
    "    'Name': ['John', 'Doe', 'William', 'Spark', 'Mark'],\n",
    "    'Occupation': ['Chemist', 'Statistician', 'Statistician',\n",
    "                   'Statistician', 'Programmer'],\n",
    "    'Date Of Join': ['2018-01-25', '2018-01-26', '2018-01-26', '2018-02-26',\n",
    "                     '2018-03-16'],\n",
    "    'Age': [23, 24, 34, 29, 40]})\n",
    " \n",
    "print(\"\\n Example iterrows \\n\")\n",
    "for index, col in employees.iterrows():\n",
    "    print(col['Occupation'], \"--\", col['Age'])\n",
    " \n",
    " \n",
    "print(\"\\n Example itertuples \\n\")\n",
    "for row in employees.itertuples(index=True, name='Pandas'):\n",
    "    print(getattr(row, \"Name\"), \"--\", getattr(row, \"Age\"))"
   ]
  },
  {
   "cell_type": "markdown",
   "id": "eef0355e",
   "metadata": {},
   "source": [
    "# How to delete DataFrame columns by name or index in Pandas?\n"
   ]
  },
  {
   "cell_type": "markdown",
   "id": "5cb0e1bc",
   "metadata": {},
   "source": [
    "## Drop DataFrame Column(s) by Name and Index:\n"
   ]
  },
  {
   "cell_type": "code",
   "execution_count": 18,
   "id": "3660d229",
   "metadata": {},
   "outputs": [
    {
     "name": "stdout",
     "output_type": "stream",
     "text": [
      "  EmpCode     Name    Occupation Date Of Join  Age\n",
      "0  Emp001     John       Chemist   2018-01-25   23\n",
      "1  Emp002      Doe  Statistician   2018-01-26   24\n",
      "2  Emp003  William  Statistician   2018-01-26   34\n",
      "3  Emp004    Spark  Statistician   2018-02-26   29\n",
      "4  Emp005     Mark    Programmer   2018-03-16   40\n",
      "\n",
      " Drop Column by Name \n",
      "\n",
      "  EmpCode     Name    Occupation Date Of Join\n",
      "0  Emp001     John       Chemist   2018-01-25\n",
      "1  Emp002      Doe  Statistician   2018-01-26\n",
      "2  Emp003  William  Statistician   2018-01-26\n",
      "3  Emp004    Spark  Statistician   2018-02-26\n",
      "4  Emp005     Mark    Programmer   2018-03-16\n",
      "\n",
      " Drop Column by Index \n",
      "\n",
      "     Occupation Date Of Join\n",
      "0       Chemist   2018-01-25\n",
      "1  Statistician   2018-01-26\n",
      "2  Statistician   2018-01-26\n",
      "3  Statistician   2018-02-26\n",
      "4    Programmer   2018-03-16\n"
     ]
    }
   ],
   "source": [
    "import pandas as pd\n",
    " \n",
    "employees = pd.DataFrame({\n",
    "    'EmpCode': ['Emp001', 'Emp002', 'Emp003', 'Emp004', 'Emp005'],\n",
    "    'Name': ['John', 'Doe', 'William', 'Spark', 'Mark'],\n",
    "    'Occupation': ['Chemist', 'Statistician', 'Statistician',\n",
    "                   'Statistician', 'Programmer'],\n",
    "    'Date Of Join': ['2018-01-25', '2018-01-26', '2018-01-26', '2018-02-26',\n",
    "                     '2018-03-16'],\n",
    "    'Age': [23, 24, 34, 29, 40]})\n",
    " \n",
    "print(employees)\n",
    " \n",
    "print(\"\\n Drop Column by Name \\n\")\n",
    "employees.drop('Age', axis=1, inplace=True)\n",
    "print(employees)\n",
    " \n",
    "print(\"\\n Drop Column by Index \\n\")\n",
    "employees.drop(employees.columns[[0,1]], axis=1, inplace=True)\n",
    "print(employees)"
   ]
  },
  {
   "cell_type": "markdown",
   "id": "210e5157",
   "metadata": {},
   "source": [
    "# Adding new column to existing DataFrame in Pandas\n"
   ]
  },
  {
   "cell_type": "markdown",
   "id": "65e28f7b",
   "metadata": {},
   "source": [
    "## Add Column to DataFrame:\n"
   ]
  },
  {
   "cell_type": "code",
   "execution_count": 19,
   "id": "71cf2a28",
   "metadata": {},
   "outputs": [
    {
     "data": {
      "text/html": [
       "<div>\n",
       "<style scoped>\n",
       "    .dataframe tbody tr th:only-of-type {\n",
       "        vertical-align: middle;\n",
       "    }\n",
       "\n",
       "    .dataframe tbody tr th {\n",
       "        vertical-align: top;\n",
       "    }\n",
       "\n",
       "    .dataframe thead th {\n",
       "        text-align: right;\n",
       "    }\n",
       "</style>\n",
       "<table border=\"1\" class=\"dataframe\">\n",
       "  <thead>\n",
       "    <tr style=\"text-align: right;\">\n",
       "      <th></th>\n",
       "      <th>EmpCode</th>\n",
       "      <th>Name</th>\n",
       "      <th>Occupation</th>\n",
       "      <th>Date Of Join</th>\n",
       "      <th>Age</th>\n",
       "      <th>City</th>\n",
       "    </tr>\n",
       "  </thead>\n",
       "  <tbody>\n",
       "    <tr>\n",
       "      <th>0</th>\n",
       "      <td>Emp001</td>\n",
       "      <td>John</td>\n",
       "      <td>Chemist</td>\n",
       "      <td>2018-01-25</td>\n",
       "      <td>23</td>\n",
       "      <td>London</td>\n",
       "    </tr>\n",
       "    <tr>\n",
       "      <th>1</th>\n",
       "      <td>Emp002</td>\n",
       "      <td>Doe</td>\n",
       "      <td>Statistician</td>\n",
       "      <td>2018-01-26</td>\n",
       "      <td>24</td>\n",
       "      <td>Tokyo</td>\n",
       "    </tr>\n",
       "    <tr>\n",
       "      <th>2</th>\n",
       "      <td>Emp003</td>\n",
       "      <td>William</td>\n",
       "      <td>Statistician</td>\n",
       "      <td>2018-01-26</td>\n",
       "      <td>34</td>\n",
       "      <td>Sydney</td>\n",
       "    </tr>\n",
       "    <tr>\n",
       "      <th>3</th>\n",
       "      <td>Emp004</td>\n",
       "      <td>Spark</td>\n",
       "      <td>Statistician</td>\n",
       "      <td>2018-02-26</td>\n",
       "      <td>29</td>\n",
       "      <td>London</td>\n",
       "    </tr>\n",
       "    <tr>\n",
       "      <th>4</th>\n",
       "      <td>Emp005</td>\n",
       "      <td>Mark</td>\n",
       "      <td>Programmer</td>\n",
       "      <td>2018-03-16</td>\n",
       "      <td>40</td>\n",
       "      <td>Toronto</td>\n",
       "    </tr>\n",
       "  </tbody>\n",
       "</table>\n",
       "</div>"
      ],
      "text/plain": [
       "  EmpCode     Name    Occupation Date Of Join  Age     City\n",
       "0  Emp001     John       Chemist   2018-01-25   23   London\n",
       "1  Emp002      Doe  Statistician   2018-01-26   24    Tokyo\n",
       "2  Emp003  William  Statistician   2018-01-26   34   Sydney\n",
       "3  Emp004    Spark  Statistician   2018-02-26   29   London\n",
       "4  Emp005     Mark    Programmer   2018-03-16   40  Toronto"
      ]
     },
     "execution_count": 19,
     "metadata": {},
     "output_type": "execute_result"
    }
   ],
   "source": [
    "import pandas as pd\n",
    " \n",
    "employees = pd.DataFrame({\n",
    "    'EmpCode': ['Emp001', 'Emp002', 'Emp003', 'Emp004', 'Emp005'],\n",
    "    'Name': ['John', 'Doe', 'William', 'Spark', 'Mark'],\n",
    "    'Occupation': ['Chemist', 'Statistician', 'Statistician',\n",
    "                   'Statistician', 'Programmer'],\n",
    "    'Date Of Join': ['2018-01-25', '2018-01-26', '2018-01-26', '2018-02-26',\n",
    "                     '2018-03-16'],\n",
    "    'Age': [23, 24, 34, 29, 40]})\n",
    " \n",
    "employees['City'] = ['London', 'Tokyo', 'Sydney', 'London', 'Toronto']\n",
    " \n",
    "employees"
   ]
  },
  {
   "cell_type": "markdown",
   "id": "5e5a8d3c",
   "metadata": {},
   "source": [
    "# How to get a list of the column headers from a Pandas DataFrame?\n"
   ]
  },
  {
   "cell_type": "markdown",
   "id": "ebaed0fc",
   "metadata": {},
   "source": [
    "## Get list of the column headers:\n"
   ]
  },
  {
   "cell_type": "code",
   "execution_count": 20,
   "id": "04d15ce1",
   "metadata": {},
   "outputs": [
    {
     "name": "stdout",
     "output_type": "stream",
     "text": [
      "['EmpCode', 'Name', 'Occupation', 'Date Of Join', 'Age']\n",
      "['EmpCode', 'Name', 'Occupation', 'Date Of Join', 'Age']\n",
      "['EmpCode', 'Name', 'Occupation', 'Date Of Join', 'Age']\n"
     ]
    }
   ],
   "source": [
    "import pandas as pd\n",
    " \n",
    "employees = pd.DataFrame({\n",
    "    'EmpCode': ['Emp001', 'Emp002', 'Emp003', 'Emp004', 'Emp005'],\n",
    "    'Name': ['John', 'Doe', 'William', 'Spark', 'Mark'],\n",
    "    'Occupation': ['Chemist', 'Statistician', 'Statistician',\n",
    "                   'Statistician', 'Programmer'],\n",
    "    'Date Of Join': ['2018-01-25', '2018-01-26', '2018-01-26', '2018-02-26',\n",
    "                     '2018-03-16'],\n",
    "    'Age': [23, 24, 34, 29, 40]})\n",
    " \n",
    " \n",
    "print(list(employees))\n",
    "print(list(employees.columns.values))\n",
    "print(employees.columns.tolist())\n"
   ]
  },
  {
   "cell_type": "markdown",
   "id": "96a82392",
   "metadata": {},
   "source": [
    "# How to generate demo on a randomly generated DataFrame?\n"
   ]
  },
  {
   "cell_type": "markdown",
   "id": "4c576541",
   "metadata": {},
   "source": [
    "## Generate DataFrame with random values :\n"
   ]
  },
  {
   "cell_type": "code",
   "execution_count": 21,
   "id": "a01b56bb",
   "metadata": {},
   "outputs": [
    {
     "name": "stdout",
     "output_type": "stream",
     "text": [
      "         A   B   C   D   E   F   G\n",
      "Row-0   48  96  11  33  94   4  70\n",
      "Row-1   70  22   5   2  95  71  68\n",
      "Row-2   78  35  92  91  26  90   6\n",
      "Row-3   20  43  31  49  85  41  64\n",
      "Row-4    6  19   2  79  30  35  26\n",
      "Row-5   60  66  76  96  67   2  10\n",
      "Row-6   51   0  93  93  94   0  11\n",
      "Row-7   30  26  71  51  28  24  91\n",
      "Row-8   46  62  13  71  36   0  58\n",
      "Row-9   43  64  19  58  45  83   1\n",
      "Row-10  61   9  29  52  43  87  32\n"
     ]
    }
   ],
   "source": [
    "import pandas as pd\n",
    "import numpy as np\n",
    " \n",
    "np.random.seed(50)\n",
    " \n",
    "df_random = pd.DataFrame(np.random.randint(100, size=(11, 7)),\n",
    "                         columns=list('ABCDEFG'),\n",
    "                         index=['Row-{}'.format(i) for i in range(11)])\n",
    " \n",
    "print(df_random)"
   ]
  },
  {
   "cell_type": "markdown",
   "id": "8a7759bf",
   "metadata": {},
   "source": [
    "# How to select multiple columns in a pandas DataFrame?\n"
   ]
  },
  {
   "cell_type": "markdown",
   "id": "6f8bb74e",
   "metadata": {},
   "source": [
    "## Select multiple columns from DataFrame:\n"
   ]
  },
  {
   "cell_type": "raw",
   "id": "0350156c",
   "metadata": {},
   "source": [
    "import pandas as pd\n",
    " \n",
    "employees = pd.DataFrame({\n",
    "    'EmpCode': ['Emp001', 'Emp002', 'Emp003', 'Emp004', 'Emp005'],\n",
    "    'Name': ['John', 'Doe', 'William', 'Spark', 'Mark'],\n",
    "    'Occupation': ['Chemist', 'Statistician', 'Statistician',\n",
    "                   'Statistician', 'Programmer'],\n",
    "    'Date Of Join': ['2018-01-25', '2018-01-26', '2018-01-26', '2018-02-26',\n",
    "                     '2018-03-16'],\n",
    "    'Age': [23, 24, 34, 29, 40]})\n",
    " \n",
    "df = employees[['EmpCode', 'Age', 'Name']]\n",
    "df"
   ]
  },
  {
   "cell_type": "markdown",
   "id": "076a7c4a",
   "metadata": {},
   "source": [
    "# How to Convert Dictionary into DataFrame?\n"
   ]
  },
  {
   "cell_type": "markdown",
   "id": "2d01bfa1",
   "metadata": {},
   "source": [
    "## Dictionary to DataFrame:\n"
   ]
  },
  {
   "cell_type": "code",
   "execution_count": null,
   "id": "13716d31",
   "metadata": {},
   "outputs": [],
   "source": []
  },
  {
   "cell_type": "code",
   "execution_count": 22,
   "id": "5e965739",
   "metadata": {},
   "outputs": [
    {
     "name": "stdout",
     "output_type": "stream",
     "text": [
      "{'Age': [30, 20, 22, 40, 32, 28, 39], 'Color': ['Blue', 'Green', 'Red', 'White', 'Gray', 'Black', 'Red'], 'Food': ['Steak', 'Lamb', 'Mango', 'Apple', 'Cheese', 'Melon', 'Beans'], 'Height': [165, 70, 120, 80, 180, 172, 150], 'Score': [4.6, 8.3, 9.0, 3.3, 1.8, 9.5, 2.2], 'State': ['NY', 'TX', 'FL', 'AL', 'AK', 'TX', 'TX']}\n",
      "   Age  Color    Food  Height  Score State\n",
      "0   30   Blue   Steak     165    4.6    NY\n",
      "1   20  Green    Lamb      70    8.3    TX\n",
      "2   22    Red   Mango     120    9.0    FL\n",
      "3   40  White   Apple      80    3.3    AL\n",
      "4   32   Gray  Cheese     180    1.8    AK\n",
      "5   28  Black   Melon     172    9.5    TX\n",
      "6   39    Red   Beans     150    2.2    TX\n"
     ]
    }
   ],
   "source": [
    "\n",
    "import pandas as pd\n",
    " \n",
    "data = ({'Age': [30, 20, 22, 40, 32, 28, 39],\n",
    "                   'Color': ['Blue', 'Green', 'Red', 'White', 'Gray', 'Black',\n",
    "                             'Red'],\n",
    "                   'Food': ['Steak', 'Lamb', 'Mango', 'Apple', 'Cheese',\n",
    "                            'Melon', 'Beans'],\n",
    "                   'Height': [165, 70, 120, 80, 180, 172, 150],\n",
    "                   'Score': [4.6, 8.3, 9.0, 3.3, 1.8, 9.5, 2.2],\n",
    "                   'State': ['NY', 'TX', 'FL', 'AL', 'AK', 'TX', 'TX']\n",
    "                   })\n",
    "\n",
    "\n",
    "import pandas as pd\n",
    " \n",
    "data = ({'Age': [30, 20, 22, 40, 32, 28, 39],\n",
    "                   'Color': ['Blue', 'Green', 'Red', 'White', 'Gray', 'Black',\n",
    "                             'Red'],\n",
    "                   'Food': ['Steak', 'Lamb', 'Mango', 'Apple', 'Cheese',\n",
    "                            'Melon', 'Beans'],\n",
    "                   'Height': [165, 70, 120, 80, 180, 172, 150],\n",
    "                   'Score': [4.6, 8.3, 9.0, 3.3, 1.8, 9.5, 2.2],\n",
    "                   'State': ['NY', 'TX', 'FL', 'AL', 'AK', 'TX', 'TX']\n",
    "                   })\n",
    "print(data)\n",
    " \n",
    "df = pd.DataFrame(data)\n",
    " \n",
    "print(df)\n",
    "df = pd.DataFrame(data)\n",
    " \n"
   ]
  },
  {
   "cell_type": "markdown",
   "id": "af1a8bae",
   "metadata": {},
   "source": [
    "# How to check whether a pandas DataFrame is empty?\n"
   ]
  },
  {
   "cell_type": "markdown",
   "id": "4b3a82d3",
   "metadata": {},
   "source": [
    "## DataFrame is empty:\n"
   ]
  },
  {
   "cell_type": "code",
   "execution_count": 23,
   "id": "76453a53",
   "metadata": {},
   "outputs": [
    {
     "name": "stdout",
     "output_type": "stream",
     "text": [
      "DataFrame is empty!\n"
     ]
    }
   ],
   "source": [
    "\n",
    "import pandas as pd\n",
    " \n",
    "df = pd.DataFrame()\n",
    " \n",
    "if df.empty:\n",
    "    print('DataFrame is empty!')"
   ]
  },
  {
   "cell_type": "markdown",
   "id": "ebf0d910",
   "metadata": {},
   "source": [
    "# DataFrame slicing using loc in Pandas\n"
   ]
  },
  {
   "cell_type": "markdown",
   "id": "414e6115",
   "metadata": {},
   "source": [
    "## loc selects data only by labels:\n"
   ]
  },
  {
   "cell_type": "code",
   "execution_count": 24,
   "id": "825b7dad",
   "metadata": {},
   "outputs": [
    {
     "name": "stdout",
     "output_type": "stream",
     "text": [
      "\n",
      " -- Selecting a single row with .loc with a string -- \n",
      "\n",
      "Age          40\n",
      "Color     White\n",
      "Food      Apple\n",
      "Height       80\n",
      "Score       3.3\n",
      "State        AL\n",
      "Name: Penelope, dtype: object\n",
      "\n",
      " -- Selecting multiple rows with .loc with a list of strings -- \n",
      "\n",
      "          Age Color    Food  Height  Score State\n",
      "Cornelia   39   Red   Beans     150    2.2    TX\n",
      "Jane       30  Blue   Steak     165    4.6    NY\n",
      "Dean       32  Gray  Cheese     180    1.8    AK\n",
      "\n",
      " -- Selecting multiple rows with .loc with slice notation -- \n",
      "\n",
      "          Age  Color    Food  Height  Score State\n",
      "Aaron      22    Red   Mango     120    9.0    FL\n",
      "Penelope   40  White   Apple      80    3.3    AL\n",
      "Dean       32   Gray  Cheese     180    1.8    AK\n"
     ]
    }
   ],
   "source": [
    "import pandas as pd\n",
    " \n",
    "df = pd.DataFrame({'Age': [30, 20, 22, 40, 32, 28, 39],\n",
    "                   'Color': ['Blue', 'Green', 'Red', 'White', 'Gray', 'Black',\n",
    "                             'Red'],\n",
    "                   'Food': ['Steak', 'Lamb', 'Mango', 'Apple', 'Cheese',\n",
    "                            'Melon', 'Beans'],\n",
    "                   'Height': [165, 70, 120, 80, 180, 172, 150],\n",
    "                   'Score': [4.6, 8.3, 9.0, 3.3, 1.8, 9.5, 2.2],\n",
    "                   'State': ['NY', 'TX', 'FL', 'AL', 'AK', 'TX', 'TX']\n",
    "                   },\n",
    "                  index=['Jane', 'Nick', 'Aaron', 'Penelope', 'Dean',\n",
    "                         'Christina', 'Cornelia'])\n",
    " \n",
    "print(\"\\n -- Selecting a single row with .loc with a string -- \\n\")\n",
    "print(df.loc['Penelope'])\n",
    " \n",
    "print(\"\\n -- Selecting multiple rows with .loc with a list of strings -- \\n\")\n",
    "print(df.loc[['Cornelia', 'Jane', 'Dean']])\n",
    " \n",
    "print(\"\\n -- Selecting multiple rows with .loc with slice notation -- \\n\")\n",
    "print(df.loc['Aaron':'Dean'])"
   ]
  },
  {
   "cell_type": "markdown",
   "id": "69200185",
   "metadata": {},
   "source": [
    "# DataFrame slicing using iloc in Pandas\n"
   ]
  },
  {
   "cell_type": "markdown",
   "id": "fe7c30ef",
   "metadata": {},
   "source": [
    "## .iloc selects data only by integer location:\n"
   ]
  },
  {
   "cell_type": "code",
   "execution_count": 25,
   "id": "86e0fe83",
   "metadata": {},
   "outputs": [
    {
     "name": "stdout",
     "output_type": "stream",
     "text": [
      "\n",
      " -- Selecting a single row with .iloc with an integer -- \n",
      "\n",
      "Age           32\n",
      "Color       Gray\n",
      "Food      Cheese\n",
      "Height       180\n",
      "Score        1.8\n",
      "State         AK\n",
      "Name: Dean, dtype: object\n",
      "\n",
      " -- Selecting multiple rows with .iloc with a list of integers -- \n",
      "\n",
      "           Age  Color   Food  Height  Score State\n",
      "Aaron       22    Red  Mango     120    9.0    FL\n",
      "Christina   28  Black  Melon     172    9.5    TX\n",
      "\n",
      " -- Selecting multiple rows with .iloc with slice notation -- \n",
      "\n",
      "          Age  Color   Food  Height  Score State\n",
      "Jane       30   Blue  Steak     165    4.6    NY\n",
      "Penelope   40  White  Apple      80    3.3    AL\n"
     ]
    }
   ],
   "source": [
    "\n",
    "import pandas as pd\n",
    " \n",
    "df = pd.DataFrame({'Age': [30, 20, 22, 40, 32, 28, 39],\n",
    "                   'Color': ['Blue', 'Green', 'Red', 'White', 'Gray', 'Black',\n",
    "                             'Red'],\n",
    "                   'Food': ['Steak', 'Lamb', 'Mango', 'Apple', 'Cheese',\n",
    "                            'Melon', 'Beans'],\n",
    "                   'Height': [165, 70, 120, 80, 180, 172, 150],\n",
    "                   'Score': [4.6, 8.3, 9.0, 3.3, 1.8, 9.5, 2.2],\n",
    "                   'State': ['NY', 'TX', 'FL', 'AL', 'AK', 'TX', 'TX']\n",
    "                   },\n",
    "                  index=['Jane', 'Nick', 'Aaron', 'Penelope', 'Dean',\n",
    "                         'Christina', 'Cornelia'])\n",
    " \n",
    "print(\"\\n -- Selecting a single row with .iloc with an integer -- \\n\")\n",
    "print(df.iloc[4])\n",
    " \n",
    "print(\"\\n -- Selecting multiple rows with .iloc with a list of integers -- \\n\")\n",
    "print(df.iloc[[2, -2]])\n",
    " \n",
    "print(\"\\n -- Selecting multiple rows with .iloc with slice notation -- \\n\")\n",
    "print(df.iloc[:5:3])"
   ]
  },
  {
   "cell_type": "markdown",
   "id": "86cbfe71",
   "metadata": {},
   "source": [
    "# How to specify an index and column while creating DataFrame in Pandas?\n"
   ]
  },
  {
   "cell_type": "markdown",
   "id": "c5c4fa05",
   "metadata": {},
   "source": [
    "## Specify Index and Column for DataFrame:\n"
   ]
  },
  {
   "cell_type": "code",
   "execution_count": 26,
   "id": "d4b1f4d3",
   "metadata": {},
   "outputs": [
    {
     "name": "stdout",
     "output_type": "stream",
     "text": [
      "     Countries\n",
      "IND      India\n",
      "CAN     Canada\n",
      "AUS  Australia\n",
      "JAP      Japan\n",
      "GER    Germany\n",
      "FRA     France\n"
     ]
    }
   ],
   "source": [
    "\n",
    "import pandas as pd\n",
    " \n",
    "values = [\"India\", \"Canada\", \"Australia\",\n",
    "          \"Japan\", \"Germany\", \"France\"]\n",
    " \n",
    "code = [\"IND\", \"CAN\", \"AUS\", \"JAP\", \"GER\", \"FRA\"]\n",
    " \n",
    "df = pd.DataFrame(values, index=code, columns=['Countries'])\n",
    " \n",
    "print(df)"
   ]
  },
  {
   "cell_type": "markdown",
   "id": "6c888429",
   "metadata": {},
   "source": [
    "# What is difference between iloc and loc in Pandas?\n"
   ]
  },
  {
   "cell_type": "markdown",
   "id": "93755e3b",
   "metadata": {},
   "source": [
    "## loc vs iloc:\n"
   ]
  },
  {
   "cell_type": "markdown",
   "id": "118b4535",
   "metadata": {},
   "source": [
    "The loc indexer can also do boolean selection. For instance, if we are interested in finding all the rows where Age is less 30 and return just the Color and Height columns we can do the following. We can replicate this with iloc but we cannot pass it a boolean series. We must convert the boolean Series into a numpy array.\n",
    "loc gets rows (or columns) with particular labels from the index.\n",
    "iloc gets rows (or columns) at particular positions in the index (so it only takes integers)."
   ]
  },
  {
   "cell_type": "code",
   "execution_count": 27,
   "id": "3ce49da1",
   "metadata": {},
   "outputs": [
    {
     "name": "stdout",
     "output_type": "stream",
     "text": [
      "\n",
      " -- loc -- \n",
      "\n",
      "           Color  Height\n",
      "Nick       Green      70\n",
      "Aaron        Red     120\n",
      "Christina  Black     172\n",
      "\n",
      " -- iloc -- \n",
      "\n",
      "           Color  Height\n",
      "Nick       Green      70\n",
      "Aaron        Red     120\n",
      "Christina  Black     172\n"
     ]
    }
   ],
   "source": [
    "\n",
    "import pandas as pd\n",
    " \n",
    "df = pd.DataFrame({'Age': [30, 20, 22, 40, 32, 28, 39],\n",
    "                   'Color': ['Blue', 'Green', 'Red', 'White', 'Gray', 'Black',\n",
    "                             'Red'],\n",
    "                   'Food': ['Steak', 'Lamb', 'Mango', 'Apple', 'Cheese',\n",
    "                            'Melon', 'Beans'],\n",
    "                   'Height': [165, 70, 120, 80, 180, 172, 150],\n",
    "                   'Score': [4.6, 8.3, 9.0, 3.3, 1.8, 9.5, 2.2],\n",
    "                   'State': ['NY', 'TX', 'FL', 'AL', 'AK', 'TX', 'TX']\n",
    "                   },\n",
    "                  index=['Jane', 'Nick', 'Aaron', 'Penelope', 'Dean',\n",
    "                         'Christina', 'Cornelia'])\n",
    " \n",
    "print(\"\\n -- loc -- \\n\")\n",
    "print(df.loc[df['Age'] < 30, ['Color', 'Height']])\n",
    " \n",
    "print(\"\\n -- iloc -- \\n\")\n",
    "print(df.iloc[(df['Age'] < 30).values, [1, 3]])"
   ]
  },
  {
   "cell_type": "markdown",
   "id": "b0108ae3",
   "metadata": {},
   "source": [
    "# Create an empty DataFrame with Date Index\n"
   ]
  },
  {
   "cell_type": "markdown",
   "id": "864076f9",
   "metadata": {},
   "source": [
    "## Join two columns:"
   ]
  },
  {
   "cell_type": "code",
   "execution_count": 28,
   "id": "b2ef2276",
   "metadata": {},
   "outputs": [
    {
     "name": "stdout",
     "output_type": "stream",
     "text": [
      "            A  B  C  D\n",
      "2022-03-15  0  0  0  0\n",
      "2022-03-16  0  0  0  0\n",
      "2022-03-17  0  0  0  0\n",
      "2022-03-18  0  0  0  0\n",
      "2022-03-19  0  0  0  0\n",
      "2022-03-20  0  0  0  0\n",
      "2022-03-21  0  0  0  0\n",
      "2022-03-22  0  0  0  0\n",
      "2022-03-23  0  0  0  0\n",
      "2022-03-24  0  0  0  0\n"
     ]
    }
   ],
   "source": [
    "import datetime\n",
    "import pandas as pd\n",
    " \n",
    "todays_date = datetime.datetime.now().date()\n",
    "index = pd.date_range(todays_date, periods=10, freq='D') # D- Day, M-Month, W-Week, Y-Year \n",
    "columns = ['A', 'B', 'C','D']\n",
    " \n",
    "df = pd.DataFrame(index=index, columns=columns)\n",
    "df = df.fillna(0)\n",
    " \n",
    "print(df)"
   ]
  },
  {
   "cell_type": "markdown",
   "id": "847fb7e7",
   "metadata": {},
   "source": [
    "# How to change the order of DataFrame columns?\n"
   ]
  },
  {
   "cell_type": "markdown",
   "id": "79337665",
   "metadata": {},
   "source": [
    "## Change order of columns:\n"
   ]
  },
  {
   "cell_type": "code",
   "execution_count": 29,
   "id": "cc3188c5",
   "metadata": {},
   "outputs": [
    {
     "name": "stdout",
     "output_type": "stream",
     "text": [
      "\n",
      " -- Change order using columns -- \n",
      "\n",
      "           Height    Food  Color  Score State  Age\n",
      "Jane          165   Steak   Blue    4.6    NY   30\n",
      "Nick           70    Lamb  Green    8.3    TX   20\n",
      "Aaron         120   Mango    Red    9.0    FL   22\n",
      "Penelope       80   Apple  White    3.3    AL   40\n",
      "Dean          180  Cheese   Gray    1.8    AK   32\n",
      "Christina     172   Melon  Black    9.5    TX   28\n",
      "Cornelia      150   Beans    Red    2.2    TX   39\n",
      "\n",
      " -- Change order using reindex -- \n",
      "\n",
      "          State  Color  Age    Food  Score  Height\n",
      "Jane         NY   Blue   30   Steak    4.6     165\n",
      "Nick         TX  Green   20    Lamb    8.3      70\n",
      "Aaron        FL    Red   22   Mango    9.0     120\n",
      "Penelope     AL  White   40   Apple    3.3      80\n",
      "Dean         AK   Gray   32  Cheese    1.8     180\n",
      "Christina    TX  Black   28   Melon    9.5     172\n",
      "Cornelia     TX    Red   39   Beans    2.2     150\n"
     ]
    }
   ],
   "source": [
    "import pandas as pd\n",
    "\n",
    "df = pd.DataFrame({'Age': [30, 20, 22, 40, 32, 28, 39],\n",
    "                   'Color': ['Blue', 'Green', 'Red', 'White', 'Gray', 'Black',\n",
    "                             'Red'],\n",
    "                   'Food': ['Steak', 'Lamb', 'Mango', 'Apple', 'Cheese',\n",
    "                            'Melon', 'Beans'],\n",
    "                   'Height': [165, 70, 120, 80, 180, 172, 150],\n",
    "                   'Score': [4.6, 8.3, 9.0, 3.3, 1.8, 9.5, 2.2],\n",
    "                   'State': ['NY', 'TX', 'FL', 'AL', 'AK', 'TX', 'TX']\n",
    "                   },\n",
    "                  index=['Jane', 'Nick', 'Aaron', 'Penelope', 'Dean',\n",
    "                         'Christina', 'Cornelia'])\n",
    " \n",
    "print(\"\\n -- Change order using columns -- \\n\")\n",
    "new_order = [3, 2, 1, 4, 5, 0]\n",
    "df = df[df.columns[new_order]]\n",
    "print(df)\n",
    " \n",
    "print(\"\\n -- Change order using reindex -- \\n\")\n",
    "df = df.reindex(['State', 'Color', 'Age', 'Food', 'Score', 'Height'], axis=1)\n",
    "print(df)\n"
   ]
  },
  {
   "cell_type": "markdown",
   "id": "4caadccf",
   "metadata": {},
   "source": [
    "# How to check the data type of DataFrame Columns in Pandas?\n"
   ]
  },
  {
   "cell_type": "markdown",
   "id": "61518268",
   "metadata": {},
   "source": [
    "## Determine DataFrame Columns DataType:\n"
   ]
  },
  {
   "cell_type": "code",
   "execution_count": 30,
   "id": "8033c8cc",
   "metadata": {},
   "outputs": [
    {
     "name": "stdout",
     "output_type": "stream",
     "text": [
      "Age         int64\n",
      "Color      object\n",
      "Food       object\n",
      "Height      int64\n",
      "Score     float64\n",
      "State      object\n",
      "dtype: object\n"
     ]
    }
   ],
   "source": [
    "import pandas as pd\n",
    "\n",
    "df = pd.DataFrame({'Age': [30, 20, 22, 40, 32, 28, 39],\n",
    "                   'Color': ['Blue', 'Green', 'Red', 'White', 'Gray', 'Black',\n",
    "                             'Red'],\n",
    "                   'Food': ['Steak', 'Lamb', 'Mango', 'Apple', 'Cheese',\n",
    "                            'Melon', 'Beans'],\n",
    "                   'Height': [165, 70, 120, 80, 180, 172, 150],\n",
    "                   'Score': [4.6, 8.3, 9.0, 3.3, 1.8, 9.5, 2.2],\n",
    "                   'State': ['NY', 'TX', 'FL', 'AL', 'AK', 'TX', 'TX']\n",
    "                   },\n",
    "                  index=['Jane', 'Nick', 'Aaron', 'Penelope', 'Dean',\n",
    "                         'Christina', 'Cornelia'])\n",
    " \n",
    "print(df.dtypes)"
   ]
  },
  {
   "cell_type": "markdown",
   "id": "cae941aa",
   "metadata": {},
   "source": [
    "# Change data type of a specific column of a pandas DataFrame\n"
   ]
  },
  {
   "cell_type": "markdown",
   "id": "ce62ea76",
   "metadata": {},
   "source": [
    "## Alter column data type from Int64 to String:\n"
   ]
  },
  {
   "cell_type": "code",
   "execution_count": 31,
   "id": "391631a8",
   "metadata": {},
   "outputs": [
    {
     "name": "stdout",
     "output_type": "stream",
     "text": [
      "Age         int64\n",
      "Color      object\n",
      "Food       object\n",
      "Height      int64\n",
      "Score     float64\n",
      "State      object\n",
      "dtype: object\n",
      "Age        object\n",
      "Color      object\n",
      "Food       object\n",
      "Height      int64\n",
      "Score     float64\n",
      "State      object\n",
      "dtype: object\n"
     ]
    }
   ],
   "source": [
    "import pandas as pd\n",
    "\n",
    "df = pd.DataFrame({'Age': [30, 20, 22, 40, 32, 28, 39],\n",
    "                   'Color': ['Blue', 'Green', 'Red', 'White', 'Gray', 'Black',\n",
    "                             'Red'],\n",
    "                   'Food': ['Steak', 'Lamb', 'Mango', 'Apple', 'Cheese',\n",
    "                            'Melon', 'Beans'],\n",
    "                   'Height': [165, 70, 120, 80, 180, 172, 150],\n",
    "                   'Score': [4.6, 8.3, 9.0, 3.3, 1.8, 9.5, 2.2],\n",
    "                   'State': ['NY', 'TX', 'FL', 'AL', 'AK', 'TX', 'TX']\n",
    "                   },\n",
    "                  index=['Jane', 'Nick', 'Aaron', 'Penelope', 'Dean',\n",
    "                         'Christina', 'Cornelia'])\n",
    " \n",
    "print(df.dtypes)\n",
    "df['Age'] = df['Age'].astype(str)\n",
    " \n",
    "print(df.dtypes)\n"
   ]
  },
  {
   "cell_type": "markdown",
   "id": "fc594be0",
   "metadata": {},
   "source": [
    "# How to convert column with dtype as Int to DateTime in Pandas Dataframe?\n"
   ]
  },
  {
   "cell_type": "markdown",
   "id": "cb56b2d4",
   "metadata": {},
   "source": [
    "## Alter column data type from Unixtime Stamp to Datetime:\n"
   ]
  },
  {
   "cell_type": "raw",
   "id": "6a5b4417",
   "metadata": {},
   "source": [
    "Pandas will always store strings as objects."
   ]
  },
  {
   "cell_type": "code",
   "execution_count": 32,
   "id": "9b01cd03",
   "metadata": {},
   "outputs": [
    {
     "name": "stdout",
     "output_type": "stream",
     "text": [
      "\n",
      "----------------Before---------------\n",
      "\n",
      "DateOFBirth     int64\n",
      "State          object\n",
      "dtype: object\n",
      "           DateOFBirth State\n",
      "Jane        1349720105    NY\n",
      "Nick        1349806505    TX\n",
      "Aaron       1349892905    FL\n",
      "Penelope    1349979305    AL\n",
      "Dean        1350065705    AK\n",
      "Christina   1349792905    TX\n",
      "Cornelia    1349730105    TX\n",
      "\n",
      "----------------After----------------\n",
      "\n",
      "DateOFBirth    datetime64[ns]\n",
      "State                  object\n",
      "dtype: object\n",
      "                  DateOFBirth State\n",
      "Jane      2012-10-08 18:15:05    NY\n",
      "Nick      2012-10-09 18:15:05    TX\n",
      "Aaron     2012-10-10 18:15:05    FL\n",
      "Penelope  2012-10-11 18:15:05    AL\n",
      "Dean      2012-10-12 18:15:05    AK\n",
      "Christina 2012-10-09 14:28:25    TX\n",
      "Cornelia  2012-10-08 21:01:45    TX\n"
     ]
    }
   ],
   "source": [
    "import pandas as pd\n",
    "\n",
    "df = pd.DataFrame({'DateOFBirth': [1349720105, 1349806505, 1349892905,\n",
    "                                   1349979305, 1350065705, 1349792905,\n",
    "                                   1349730105],\n",
    "                   'State': ['NY', 'TX', 'FL', 'AL', 'AK', 'TX', 'TX']\n",
    "                   },\n",
    "                  index=['Jane', 'Nick', 'Aaron', 'Penelope', 'Dean',\n",
    "                         'Christina', 'Cornelia'])\n",
    " \n",
    "print(\"\\n----------------Before---------------\\n\")\n",
    "print(df.dtypes)\n",
    "print(df)\n",
    " \n",
    "df['DateOFBirth'] = pd.to_datetime(df['DateOFBirth'], unit='s')\n",
    " \n",
    "print(\"\\n----------------After----------------\\n\")\n",
    "print(df.dtypes)\n",
    "print(df)"
   ]
  },
  {
   "cell_type": "markdown",
   "id": "81b74b86",
   "metadata": {},
   "source": [
    "# Convert floats to ints in Pandas DataFrame?\n"
   ]
  },
  {
   "cell_type": "markdown",
   "id": "64486e1f",
   "metadata": {},
   "source": [
    "## Alter column data type from Float64 to Int32:\n"
   ]
  },
  {
   "cell_type": "code",
   "execution_count": 33,
   "id": "199a5c75",
   "metadata": {},
   "outputs": [
    {
     "name": "stdout",
     "output_type": "stream",
     "text": [
      "\n",
      "----------------Before---------------\n",
      "\n",
      "DailyExp    float64\n",
      "State        object\n",
      "dtype: object\n",
      "           DailyExp State\n",
      "Jane          75.70    NY\n",
      "Nick          56.69    TX\n",
      "Aaron         55.69    FL\n",
      "Penelope      96.50    AL\n",
      "Dean          84.90    AK\n",
      "Christina    110.50    TX\n",
      "Cornelia      58.90    TX\n",
      "\n",
      "----------------After----------------\n",
      "\n",
      "DailyExp     int64\n",
      "State       object\n",
      "dtype: object\n",
      "           DailyExp State\n",
      "Jane             75    NY\n",
      "Nick             56    TX\n",
      "Aaron            55    FL\n",
      "Penelope         96    AL\n",
      "Dean             84    AK\n",
      "Christina       110    TX\n",
      "Cornelia         58    TX\n"
     ]
    }
   ],
   "source": [
    "import pandas as pd\n",
    "\n",
    "df = pd.DataFrame({'DailyExp': [75.7, 56.69, 55.69, 96.5, 84.9, 110.5,\n",
    "                                58.9],\n",
    "                   'State': ['NY', 'TX', 'FL', 'AL', 'AK', 'TX', 'TX']\n",
    "                   },\n",
    "                  index=['Jane', 'Nick', 'Aaron', 'Penelope', 'Dean',\n",
    "                         'Christina', 'Cornelia'])\n",
    " \n",
    "print(\"\\n----------------Before---------------\\n\")\n",
    "print(df.dtypes)\n",
    "print(df)\n",
    " \n",
    "df['DailyExp'] = df['DailyExp'].astype(int)\n",
    " \n",
    "print(\"\\n----------------After----------------\\n\")\n",
    "print(df.dtypes)\n",
    "print(df)"
   ]
  },
  {
   "cell_type": "markdown",
   "id": "361e1aae",
   "metadata": {},
   "source": [
    "# How do I convert dates in a Pandas DataFrame to a DateTime data type?"
   ]
  },
  {
   "cell_type": "markdown",
   "id": "078f514a",
   "metadata": {},
   "source": [
    "## Alter column data type from Object to Datetime64:\n"
   ]
  },
  {
   "cell_type": "code",
   "execution_count": 34,
   "id": "4e861c6a",
   "metadata": {},
   "outputs": [
    {
     "name": "stdout",
     "output_type": "stream",
     "text": [
      "\n",
      "----------------Before---------------\n",
      "\n",
      "DateOfBirth    object\n",
      "State          object\n",
      "dtype: object\n",
      "\n",
      "----------------After----------------\n",
      "\n",
      "DateOfBirth    datetime64[ns]\n",
      "State                  object\n",
      "dtype: object\n"
     ]
    }
   ],
   "source": [
    "import pandas as pd\n",
    "\n",
    "df = pd.DataFrame({'DateOfBirth': ['1986-11-11', '1999-05-12', '1976-01-01',\n",
    "                                   '1986-06-01', '1983-06-04', '1990-03-07',\n",
    "                                   '1999-07-09'],                   \n",
    "                   'State': ['NY', 'TX', 'FL', 'AL', 'AK', 'TX', 'TX']\n",
    "                   },\n",
    "                  index=['Jane', 'Nick', 'Aaron', 'Penelope', 'Dean',\n",
    "                         'Christina', 'Cornelia'])\n",
    " \n",
    "print(\"\\n----------------Before---------------\\n\")\n",
    "print(df.dtypes)\n",
    "  \n",
    "df['DateOfBirth'] = df['DateOfBirth'].astype('datetime64')\n",
    "  \n",
    "print(\"\\n----------------After----------------\\n\")\n",
    "print(df.dtypes)"
   ]
  },
  {
   "cell_type": "markdown",
   "id": "d4d2d547",
   "metadata": {},
   "source": [
    "# The following code demonstrates appending two DataFrame objects"
   ]
  },
  {
   "cell_type": "markdown",
   "id": "1f940b39",
   "metadata": {},
   "source": [
    "## Appending two DataFrame objects:\n"
   ]
  },
  {
   "cell_type": "raw",
   "id": "4201c947",
   "metadata": {},
   "source": [
    "The set of columns of the DataFrame objects used in an append do not need to be the same. The resulting data frame will consist of the union of the columns in both, with missing column data filled with NaN."
   ]
  },
  {
   "cell_type": "code",
   "execution_count": 35,
   "id": "c76cf278",
   "metadata": {},
   "outputs": [
    {
     "name": "stdout",
     "output_type": "stream",
     "text": [
      "           Age  Color    Food  Height  Score State\n",
      "Jane        30    NaN     NaN   165.0    4.6    NY\n",
      "Nick        20    NaN     NaN    70.0    8.3    TX\n",
      "Aaron       22    NaN     NaN   120.0    9.0    FL\n",
      "Penelope    40    NaN     NaN    80.0    3.3    AL\n",
      "Dean        32   Gray  Cheese     NaN    1.8    AK\n",
      "Christina   28  Black   Melon     NaN    9.5    TX\n",
      "Cornelia    39    Red   Beans     NaN    2.2    TX\n"
     ]
    }
   ],
   "source": [
    "\n",
    "import pandas as pd\n",
    "\n",
    "df1 = pd.DataFrame({'Age': [30, 20, 22, 40], 'Height': [165, 70, 120, 80],\n",
    "                    'Score': [4.6, 8.3, 9.0, 3.3], 'State': ['NY', 'TX',\n",
    "                                                             'FL', 'AL']},\n",
    "                   index=['Jane', 'Nick', 'Aaron', 'Penelope'])\n",
    " \n",
    "df2 = pd.DataFrame({'Age': [32, 28, 39], 'Color': ['Gray', 'Black', 'Red'],\n",
    "                    'Food': ['Cheese', 'Melon', 'Beans'],\n",
    "                    'Score': [1.8, 9.5, 2.2], 'State': ['AK', 'TX', 'TX']},\n",
    "                   index=['Dean', 'Christina', 'Cornelia'])\n",
    " \n",
    "df3 = df1.append(df2, sort=True)\n",
    " \n",
    "print(df3)"
   ]
  },
  {
   "cell_type": "code",
   "execution_count": 36,
   "id": "0e1432fe",
   "metadata": {},
   "outputs": [],
   "source": [
    "df4= pd.concat([df2,df1])"
   ]
  },
  {
   "cell_type": "code",
   "execution_count": 37,
   "id": "1cfb702a",
   "metadata": {},
   "outputs": [
    {
     "data": {
      "text/html": [
       "<div>\n",
       "<style scoped>\n",
       "    .dataframe tbody tr th:only-of-type {\n",
       "        vertical-align: middle;\n",
       "    }\n",
       "\n",
       "    .dataframe tbody tr th {\n",
       "        vertical-align: top;\n",
       "    }\n",
       "\n",
       "    .dataframe thead th {\n",
       "        text-align: right;\n",
       "    }\n",
       "</style>\n",
       "<table border=\"1\" class=\"dataframe\">\n",
       "  <thead>\n",
       "    <tr style=\"text-align: right;\">\n",
       "      <th></th>\n",
       "      <th>Age</th>\n",
       "      <th>Color</th>\n",
       "      <th>Food</th>\n",
       "      <th>Score</th>\n",
       "      <th>State</th>\n",
       "      <th>Height</th>\n",
       "    </tr>\n",
       "  </thead>\n",
       "  <tbody>\n",
       "    <tr>\n",
       "      <th>Dean</th>\n",
       "      <td>32</td>\n",
       "      <td>Gray</td>\n",
       "      <td>Cheese</td>\n",
       "      <td>1.8</td>\n",
       "      <td>AK</td>\n",
       "      <td>NaN</td>\n",
       "    </tr>\n",
       "    <tr>\n",
       "      <th>Christina</th>\n",
       "      <td>28</td>\n",
       "      <td>Black</td>\n",
       "      <td>Melon</td>\n",
       "      <td>9.5</td>\n",
       "      <td>TX</td>\n",
       "      <td>NaN</td>\n",
       "    </tr>\n",
       "    <tr>\n",
       "      <th>Cornelia</th>\n",
       "      <td>39</td>\n",
       "      <td>Red</td>\n",
       "      <td>Beans</td>\n",
       "      <td>2.2</td>\n",
       "      <td>TX</td>\n",
       "      <td>NaN</td>\n",
       "    </tr>\n",
       "    <tr>\n",
       "      <th>Jane</th>\n",
       "      <td>30</td>\n",
       "      <td>NaN</td>\n",
       "      <td>NaN</td>\n",
       "      <td>4.6</td>\n",
       "      <td>NY</td>\n",
       "      <td>165.0</td>\n",
       "    </tr>\n",
       "    <tr>\n",
       "      <th>Nick</th>\n",
       "      <td>20</td>\n",
       "      <td>NaN</td>\n",
       "      <td>NaN</td>\n",
       "      <td>8.3</td>\n",
       "      <td>TX</td>\n",
       "      <td>70.0</td>\n",
       "    </tr>\n",
       "    <tr>\n",
       "      <th>Aaron</th>\n",
       "      <td>22</td>\n",
       "      <td>NaN</td>\n",
       "      <td>NaN</td>\n",
       "      <td>9.0</td>\n",
       "      <td>FL</td>\n",
       "      <td>120.0</td>\n",
       "    </tr>\n",
       "    <tr>\n",
       "      <th>Penelope</th>\n",
       "      <td>40</td>\n",
       "      <td>NaN</td>\n",
       "      <td>NaN</td>\n",
       "      <td>3.3</td>\n",
       "      <td>AL</td>\n",
       "      <td>80.0</td>\n",
       "    </tr>\n",
       "  </tbody>\n",
       "</table>\n",
       "</div>"
      ],
      "text/plain": [
       "           Age  Color    Food  Score State  Height\n",
       "Dean        32   Gray  Cheese    1.8    AK     NaN\n",
       "Christina   28  Black   Melon    9.5    TX     NaN\n",
       "Cornelia    39    Red   Beans    2.2    TX     NaN\n",
       "Jane        30    NaN     NaN    4.6    NY   165.0\n",
       "Nick        20    NaN     NaN    8.3    TX    70.0\n",
       "Aaron       22    NaN     NaN    9.0    FL   120.0\n",
       "Penelope    40    NaN     NaN    3.3    AL    80.0"
      ]
     },
     "execution_count": 37,
     "metadata": {},
     "output_type": "execute_result"
    }
   ],
   "source": [
    "df4"
   ]
  },
  {
   "cell_type": "markdown",
   "id": "07b015e8",
   "metadata": {},
   "source": [
    "# How to add an extra row at end in a pandas DataFrame?\n"
   ]
  },
  {
   "cell_type": "markdown",
   "id": "4e58b761",
   "metadata": {},
   "source": [
    "## Add row at end:\n"
   ]
  },
  {
   "cell_type": "code",
   "execution_count": 38,
   "id": "9e30821c",
   "metadata": {},
   "outputs": [
    {
     "name": "stdout",
     "output_type": "stream",
     "text": [
      "\n",
      "------------ BEFORE ----------------\n",
      "\n",
      "  EmpCode     Name    Occupation Date Of Join  Age\n",
      "0  Emp001     John       Chemist   2018-01-25   23\n",
      "1  Emp002      Doe  Statistician   2018-01-26   24\n",
      "2  Emp003  William  Statistician   2018-01-26   34\n",
      "3  Emp004    Spark  Statistician   2018-02-26   29\n",
      "4  Emp005     Mark    Programmer   2018-03-16   40\n",
      "\n",
      "------------ AFTER ----------------\n",
      "\n",
      "  EmpCode        Name    Occupation Date Of Join         Age\n",
      "0  Emp001        John       Chemist   2018-01-25          23\n",
      "1  Emp002         Doe  Statistician   2018-01-26          24\n",
      "2  Emp003     William  Statistician   2018-01-26          34\n",
      "3  Emp004       Spark  Statistician   2018-02-26          29\n",
      "4  Emp005        Mark    Programmer   2018-03-16          40\n",
      "5      45  2018-01-25        Emp006        Sunny  Programmer\n"
     ]
    }
   ],
   "source": [
    "\n",
    "import pandas as pd\n",
    "\n",
    "employees = pd.DataFrame({\n",
    "    'EmpCode': ['Emp001', 'Emp002', 'Emp003', 'Emp004', 'Emp005'],\n",
    "    'Name': ['John', 'Doe', 'William', 'Spark', 'Mark'],\n",
    "    'Occupation': ['Chemist', 'Statistician', 'Statistician',\n",
    "                   'Statistician', 'Programmer'],\n",
    "    'Date Of Join': ['2018-01-25', '2018-01-26', '2018-01-26', '2018-02-26',\n",
    "                     '2018-03-16'],\n",
    "    'Age': [23, 24, 34, 29, 40]})\n",
    " \n",
    "print(\"\\n------------ BEFORE ----------------\\n\")\n",
    "print(employees)\n",
    " \n",
    "employees.loc[len(employees)] = [45, '2018-01-25', 'Emp006', 'Sunny',\n",
    "                                 'Programmer']\n",
    " \n",
    "print(\"\\n------------ AFTER ----------------\\n\")\n",
    "print(employees)"
   ]
  },
  {
   "cell_type": "markdown",
   "id": "b53b0daf",
   "metadata": {},
   "source": [
    "# Add a new row to a Pandas DataFrame with specific index name\n"
   ]
  },
  {
   "cell_type": "markdown",
   "id": "f145d73a",
   "metadata": {},
   "source": [
    "## Add row with specific index name:\n"
   ]
  },
  {
   "cell_type": "code",
   "execution_count": 39,
   "id": "0253ad27",
   "metadata": {},
   "outputs": [
    {
     "name": "stdout",
     "output_type": "stream",
     "text": [
      "\n",
      "------------ BEFORE ----------------\n",
      "\n",
      "                 Name    Occupation Date Of Join  Age\n",
      "Emp001       John Doe       Chemist   2018-01-25   23\n",
      "Emp002  William Spark  Statistician   2018-01-26   24\n",
      "\n",
      "------------ AFTER ----------------\n",
      "\n",
      "                 Name    Occupation Date Of Join  Age\n",
      "Emp001       John Doe       Chemist   2018-01-25   23\n",
      "Emp002  William Spark  Statistician   2018-01-26   24\n",
      "Emp003          Sunny    Programmer   2018-01-25   45\n"
     ]
    }
   ],
   "source": [
    "\n",
    "import pandas as pd\n",
    " \n",
    "employees = pd.DataFrame(\n",
    "    data={'Name': ['John Doe', 'William Spark'],\n",
    "          'Occupation': ['Chemist', 'Statistician'],\n",
    "          'Date Of Join': ['2018-01-25', '2018-01-26'],\n",
    "          'Age': [23, 24]},\n",
    "    index=['Emp001', 'Emp002'],\n",
    "    columns=['Name', 'Occupation', 'Date Of Join', 'Age'])\n",
    " \n",
    "print(\"\\n------------ BEFORE ----------------\\n\")\n",
    "print(employees)\n",
    " \n",
    "employees.loc['Emp003'] = ['Sunny', 'Programmer', '2018-01-25', 45]\n",
    " \n",
    "print(\"\\n------------ AFTER ----------------\\n\")\n",
    "print(employees)"
   ]
  },
  {
   "cell_type": "markdown",
   "id": "575de355",
   "metadata": {},
   "source": [
    "# How to append rows in a pandas DataFrame using a for loop?\n"
   ]
  },
  {
   "cell_type": "markdown",
   "id": "d4760749",
   "metadata": {},
   "source": [
    "## Append rows using a for loop:\n"
   ]
  },
  {
   "cell_type": "code",
   "execution_count": 40,
   "id": "177eff78",
   "metadata": {},
   "outputs": [
    {
     "data": {
      "text/html": [
       "<div>\n",
       "<style scoped>\n",
       "    .dataframe tbody tr th:only-of-type {\n",
       "        vertical-align: middle;\n",
       "    }\n",
       "\n",
       "    .dataframe tbody tr th {\n",
       "        vertical-align: top;\n",
       "    }\n",
       "\n",
       "    .dataframe thead th {\n",
       "        text-align: right;\n",
       "    }\n",
       "</style>\n",
       "<table border=\"1\" class=\"dataframe\">\n",
       "  <thead>\n",
       "    <tr style=\"text-align: right;\">\n",
       "      <th></th>\n",
       "      <th>Zip</th>\n",
       "    </tr>\n",
       "  </thead>\n",
       "  <tbody>\n",
       "    <tr>\n",
       "      <th>0</th>\n",
       "      <td>32100</td>\n",
       "    </tr>\n",
       "    <tr>\n",
       "      <th>1</th>\n",
       "      <td>32101</td>\n",
       "    </tr>\n",
       "    <tr>\n",
       "      <th>2</th>\n",
       "      <td>32102</td>\n",
       "    </tr>\n",
       "    <tr>\n",
       "      <th>3</th>\n",
       "      <td>32103</td>\n",
       "    </tr>\n",
       "    <tr>\n",
       "      <th>4</th>\n",
       "      <td>32104</td>\n",
       "    </tr>\n",
       "    <tr>\n",
       "      <th>5</th>\n",
       "      <td>32105</td>\n",
       "    </tr>\n",
       "    <tr>\n",
       "      <th>6</th>\n",
       "      <td>32106</td>\n",
       "    </tr>\n",
       "    <tr>\n",
       "      <th>7</th>\n",
       "      <td>32107</td>\n",
       "    </tr>\n",
       "    <tr>\n",
       "      <th>8</th>\n",
       "      <td>32108</td>\n",
       "    </tr>\n",
       "    <tr>\n",
       "      <th>9</th>\n",
       "      <td>32109</td>\n",
       "    </tr>\n",
       "  </tbody>\n",
       "</table>\n",
       "</div>"
      ],
      "text/plain": [
       "     Zip\n",
       "0  32100\n",
       "1  32101\n",
       "2  32102\n",
       "3  32103\n",
       "4  32104\n",
       "5  32105\n",
       "6  32106\n",
       "7  32107\n",
       "8  32108\n",
       "9  32109"
      ]
     },
     "execution_count": 40,
     "metadata": {},
     "output_type": "execute_result"
    }
   ],
   "source": [
    "\n",
    "import pandas as pd\n",
    "\n",
    "cols = ['Zip']\n",
    "lst = []\n",
    "zip = 32100\n",
    " \n",
    "for a in range(10):\n",
    "    lst.append([zip])\n",
    "    \n",
    "    zip= zip + 1\n",
    "   \n",
    " \n",
    "df = pd.DataFrame(lst, columns=cols)\n",
    " \n",
    "df"
   ]
  },
  {
   "cell_type": "markdown",
   "id": "c811f0f3",
   "metadata": {},
   "source": [
    "# How to add a row at top in pandas DataFrame?\n"
   ]
  },
  {
   "cell_type": "markdown",
   "id": "75f42d68",
   "metadata": {},
   "source": [
    "## Add a row at top:"
   ]
  },
  {
   "cell_type": "code",
   "execution_count": 41,
   "id": "6576179f",
   "metadata": {},
   "outputs": [
    {
     "name": "stdout",
     "output_type": "stream",
     "text": [
      "\n",
      "------------ BEFORE ----------------\n",
      "\n",
      "  EmpCode     Name    Occupation Date Of Join  Age\n",
      "0  Emp002     John       Chemist   2018-01-25   23\n",
      "1  Emp003      Doe  Statistician   2018-01-26   24\n",
      "2  Emp004  William  Statistician   2018-01-26   34\n",
      "\n",
      "------------ AFTER ----------------\n",
      "\n",
      "      Name  Age EmpCode Date Of Join    Occupation\n",
      "0     Dean   45  Emp001   2018-02-26       Chemist\n",
      "1     John   23  Emp002   2018-01-25       Chemist\n",
      "2      Doe   24  Emp003   2018-01-26  Statistician\n",
      "3  William   34  Emp004   2018-01-26  Statistician\n"
     ]
    }
   ],
   "source": [
    "import pandas as pd\n",
    " \n",
    "employees = pd.DataFrame({\n",
    "    'EmpCode': ['Emp002', 'Emp003', 'Emp004'],\n",
    "    'Name': ['John', 'Doe', 'William'],\n",
    "    'Occupation': ['Chemist', 'Statistician', 'Statistician'],\n",
    "    'Date Of Join': ['2018-01-25', '2018-01-26', '2018-01-26'],\n",
    "    'Age': [23, 24, 34]})\n",
    " \n",
    "print(\"\\n------------ BEFORE ----------------\\n\")\n",
    "print(employees)\n",
    " \n",
    "# New line\n",
    "line = pd.DataFrame({'Name': 'Dean', 'Age': 45, 'EmpCode': 'Emp001',\n",
    "                     'Date Of Join': '2018-02-26', 'Occupation': 'Chemist'\n",
    "                     }, index=[0])\n",
    " \n",
    "# Concatenate two dataframe\n",
    "employees = pd.concat([line,employees[:]]).reset_index(drop=True)\n",
    " \n",
    "print(\"\\n------------ AFTER ----------------\\n\")\n",
    "print(employees)"
   ]
  },
  {
   "cell_type": "markdown",
   "id": "86f1f538",
   "metadata": {},
   "source": [
    "# How dynamically add rows to DataFrame?\n"
   ]
  },
  {
   "cell_type": "markdown",
   "id": "a6add671",
   "metadata": {},
   "source": [
    "## Dynamically Add Rows to DataFrame:\n"
   ]
  },
  {
   "cell_type": "code",
   "execution_count": 42,
   "id": "b52f0703",
   "metadata": {},
   "outputs": [
    {
     "name": "stdout",
     "output_type": "stream",
     "text": [
      "    Name  Age\n",
      "1  Rocky   23\n",
      "2  Sunny  NaN\n"
     ]
    }
   ],
   "source": [
    "\n",
    "import pandas as pd\n",
    "\n",
    "df = pd.DataFrame(columns=['Name', 'Age'])\n",
    " \n",
    "df.loc[1, 'Name'] = 'Rocky'\n",
    "df.loc[1, 'Age'] = 23\n",
    " \n",
    "df.loc[2, 'Name'] = 'Sunny'\n",
    " \n",
    "print(df)"
   ]
  },
  {
   "cell_type": "markdown",
   "id": "86b69399",
   "metadata": {},
   "source": [
    "## How to insert a row at an arbitrary position in a DataFrame using pandas?\n"
   ]
  },
  {
   "cell_type": "markdown",
   "id": "ff4b63d6",
   "metadata": {},
   "source": [
    "## Insert a row at an arbitrary position:\n"
   ]
  },
  {
   "cell_type": "code",
   "execution_count": 43,
   "id": "f207960a",
   "metadata": {},
   "outputs": [
    {
     "name": "stdout",
     "output_type": "stream",
     "text": [
      "\n",
      "------------ BEFORE ----------------\n",
      "\n",
      "     Name Age\n",
      "1   Rocky  21\n",
      "2   Sunny  22\n",
      "3    Mark  25\n",
      "4  Taylor  28\n",
      "\n",
      "------------ AFTER ----------------\n",
      "\n",
      "     Name Age\n",
      "0   Rocky  21\n",
      "1   Sunny  22\n",
      "2    Jack  24\n",
      "3    Mark  25\n",
      "4  Taylor  28\n"
     ]
    }
   ],
   "source": [
    "import pandas as pd\n",
    " \n",
    "df = pd.DataFrame(columns=['Name', 'Age'])\n",
    " \n",
    "df.loc[1, 'Name'] = 'Rocky'\n",
    "df.loc[1, 'Age'] = 21\n",
    " \n",
    "df.loc[2, 'Name'] = 'Sunny'\n",
    "df.loc[2, 'Age'] = 22\n",
    " \n",
    "df.loc[3, 'Name'] = 'Mark'\n",
    "df.loc[3, 'Age'] = 25\n",
    " \n",
    "df.loc[4, 'Name'] = 'Taylor'\n",
    "df.loc[4, 'Age'] = 28\n",
    " \n",
    "print(\"\\n------------ BEFORE ----------------\\n\")\n",
    "print(df)\n",
    " \n",
    "line = pd.DataFrame({\"Name\": \"Jack\", \"Age\": 24}, index=[2.5])\n",
    "df = df.append(line, ignore_index=False)\n",
    "df = df.sort_index().reset_index(drop=True)\n",
    " \n",
    "df = df.reindex(['Name', 'Age'], axis=1)\n",
    "print(\"\\n------------ AFTER ----------------\\n\")\n",
    "print(df)"
   ]
  },
  {
   "cell_type": "markdown",
   "id": "330daebb",
   "metadata": {},
   "source": [
    "# How to add row to DataFrame with time stamp index in Pandas?\n"
   ]
  },
  {
   "cell_type": "markdown",
   "id": "7324d753",
   "metadata": {},
   "source": [
    "## Adding row to DataFrame with time stamp index:\n"
   ]
  },
  {
   "cell_type": "code",
   "execution_count": 44,
   "id": "6e608275",
   "metadata": {},
   "outputs": [
    {
     "name": "stdout",
     "output_type": "stream",
     "text": [
      "\n",
      "------------ BEFORE ----------------\n",
      "\n",
      "                      Name Age\n",
      "2014-05-01 18:47:05  Rocky  21\n",
      "2014-05-02 18:47:05  Sunny  22\n",
      "2014-05-03 18:47:05   Mark  25\n",
      "\n",
      "------------ AFTER ----------------\n",
      "\n",
      "                      Name Age\n",
      "2014-05-01 18:47:05  Rocky  21\n",
      "2014-05-02 18:47:05  Sunny  22\n",
      "2014-05-03 18:47:05   Mark  25\n",
      "2014-05-01 18:50:05  Bunny  26\n"
     ]
    }
   ],
   "source": [
    "import pandas as pd\n",
    " \n",
    "df = pd.DataFrame(columns=['Name', 'Age'])\n",
    " \n",
    "df.loc['2014-05-01 18:47:05', 'Name'] = 'Rocky'\n",
    "df.loc['2014-05-01 18:47:05', 'Age'] = 21\n",
    " \n",
    "df.loc['2014-05-02 18:47:05', 'Name'] = 'Sunny'\n",
    "df.loc['2014-05-02 18:47:05', 'Age'] = 22\n",
    " \n",
    "df.loc['2014-05-03 18:47:05', 'Name'] = 'Mark'\n",
    "df.loc['2014-05-03 18:47:05', 'Age'] = 25\n",
    " \n",
    "print(\"\\n------------ BEFORE ----------------\\n\")\n",
    "print(df)\n",
    " \n",
    "line = pd.to_datetime(\"2014-05-01 18:50:05\", format=\"%Y-%m-%d %H:%M:%S\")\n",
    "new_row = pd.DataFrame([['Bunny', 26]], columns=['Name', 'Age'], index=[line])\n",
    "df = pd.concat([df, pd.DataFrame(new_row)], ignore_index=False)\n",
    " \n",
    "print(\"\\n------------ AFTER ----------------\\n\")\n",
    "print(df)"
   ]
  },
  {
   "cell_type": "markdown",
   "id": "d1e5b819",
   "metadata": {},
   "source": [
    "# Fill missing value efficiently in rows with different column names\n"
   ]
  },
  {
   "cell_type": "markdown",
   "id": "07f79c47",
   "metadata": {},
   "source": [
    "## Adding rows with different column names:\n"
   ]
  },
  {
   "cell_type": "code",
   "execution_count": 45,
   "id": "fc1327b0",
   "metadata": {},
   "outputs": [
    {
     "name": "stdout",
     "output_type": "stream",
     "text": [
      "      A   B     C     D\n",
      "0  10.0  20   0.0   0.0\n",
      "1   0.0  30  40.0  50.0\n"
     ]
    }
   ],
   "source": [
    "import pandas as pd\n",
    " \n",
    "a = {'A': 10, 'B': 20}\n",
    "b = {'B': 30, 'C': 40, 'D': 50}\n",
    " \n",
    "df1 = pd.DataFrame(a, index=[0])\n",
    "df2 = pd.DataFrame(b, index=[1])\n",
    " \n",
    "df = pd.DataFrame()\n",
    "df = df.append(df1)\n",
    "df = df.append(df2).fillna(0)\n",
    " \n",
    "print(df)"
   ]
  },
  {
   "cell_type": "markdown",
   "id": "0a4a4aea",
   "metadata": {},
   "source": [
    "# Example of append, concat and combine_first in Pandas DataFrame\n"
   ]
  },
  {
   "cell_type": "markdown",
   "id": "dc5c5046",
   "metadata": {},
   "source": [
    "## Example of append, concat and combine_first:\n"
   ]
  },
  {
   "cell_type": "code",
   "execution_count": 46,
   "id": "c94e6afc",
   "metadata": {},
   "outputs": [
    {
     "name": "stdout",
     "output_type": "stream",
     "text": [
      "\n",
      "------------ append ----------------\n",
      "\n",
      "      A   B     C     D\n",
      "0  10.0  20   0.0   0.0\n",
      "1   0.0  30  40.0  50.0\n",
      "\n",
      "------------ concat ----------------\n",
      "\n",
      "      A   B     C     D\n",
      "0  10.0  20   0.0   0.0\n",
      "1   0.0  30  40.0  50.0\n",
      "\n",
      "------------ combine_first ----------------\n",
      "\n",
      "      A   B     C     D\n",
      "0  10.0  20   0.0   0.0\n",
      "1   0.0  30  40.0  50.0\n"
     ]
    }
   ],
   "source": [
    "import pandas as pd\n",
    " \n",
    "a = {'A': 10, 'B': 20}\n",
    "b = {'B': 30, 'C': 40, 'D': 50}\n",
    " \n",
    "df1 = pd.DataFrame(a, index=[0])\n",
    "df2 = pd.DataFrame(b, index=[1])\n",
    " \n",
    "d1 = pd.DataFrame()\n",
    "d1 = d1.append(df1)\n",
    "d1 = d1.append(df2).fillna(0)\n",
    "print(\"\\n------------ append ----------------\\n\")\n",
    "print(d1)\n",
    " \n",
    "d2 = pd.concat([df1, df2]).fillna(0)\n",
    "print(\"\\n------------ concat ----------------\\n\")\n",
    "print(d2)\n",
    " \n",
    "d3 = pd.DataFrame()\n",
    "d3 = d3.combine_first(df1).combine_first(df2).fillna(0)\n",
    "print(\"\\n------------ combine_first ----------------\\n\")\n",
    "print(d3)"
   ]
  },
  {
   "cell_type": "markdown",
   "id": "7c30285a",
   "metadata": {},
   "source": [
    "# Get mean(average) of rows and columns of DataFrame in Pandas\n"
   ]
  },
  {
   "cell_type": "markdown",
   "id": "1eb25e68",
   "metadata": {},
   "source": [
    "## Get mean(average) of rows and columns:\n"
   ]
  },
  {
   "cell_type": "code",
   "execution_count": 47,
   "id": "4abf64bd",
   "metadata": {},
   "outputs": [
    {
     "name": "stdout",
     "output_type": "stream",
     "text": [
      "                Apple  Orange  Banana       Pear  Mean Basket\n",
      "Basket1     10.000000    20.0    30.0  40.000000         25.0\n",
      "Basket2      7.000000    14.0    21.0  28.000000         17.5\n",
      "Basket3      5.000000     5.0     0.0   0.000000          2.5\n",
      "Mean Fruit   7.333333    13.0    17.0  22.666667         15.0\n"
     ]
    }
   ],
   "source": [
    "import pandas as pd\n",
    "\n",
    "df = pd.DataFrame([[10, 20, 30, 40], [7, 14, 21, 28], [5, 5, 0, 0]],\n",
    "                  columns=['Apple', 'Orange', 'Banana', 'Pear'],\n",
    "                  index=['Basket1', 'Basket2', 'Basket3'])\n",
    " \n",
    "df['Mean Basket'] = df.mean(axis=1)\n",
    "df.loc['Mean Fruit'] = df.mean()\n",
    " \n",
    "print(df)"
   ]
  },
  {
   "cell_type": "markdown",
   "id": "4b19916c",
   "metadata": {},
   "source": [
    "# Calculate sum across rows and columns in Pandas DataFrame\n"
   ]
  },
  {
   "cell_type": "markdown",
   "id": "f05486c4",
   "metadata": {},
   "source": [
    "## Sum across rows and columns:\n"
   ]
  },
  {
   "cell_type": "code",
   "execution_count": 48,
   "id": "70d7bdef",
   "metadata": {},
   "outputs": [
    {
     "data": {
      "text/html": [
       "<div>\n",
       "<style scoped>\n",
       "    .dataframe tbody tr th:only-of-type {\n",
       "        vertical-align: middle;\n",
       "    }\n",
       "\n",
       "    .dataframe tbody tr th {\n",
       "        vertical-align: top;\n",
       "    }\n",
       "\n",
       "    .dataframe thead th {\n",
       "        text-align: right;\n",
       "    }\n",
       "</style>\n",
       "<table border=\"1\" class=\"dataframe\">\n",
       "  <thead>\n",
       "    <tr style=\"text-align: right;\">\n",
       "      <th></th>\n",
       "      <th>Apple</th>\n",
       "      <th>Orange</th>\n",
       "      <th>Banana</th>\n",
       "      <th>Pear</th>\n",
       "      <th>Sum Basket</th>\n",
       "    </tr>\n",
       "  </thead>\n",
       "  <tbody>\n",
       "    <tr>\n",
       "      <th>Basket1</th>\n",
       "      <td>10</td>\n",
       "      <td>20</td>\n",
       "      <td>30</td>\n",
       "      <td>40</td>\n",
       "      <td>100</td>\n",
       "    </tr>\n",
       "    <tr>\n",
       "      <th>Basket2</th>\n",
       "      <td>7</td>\n",
       "      <td>14</td>\n",
       "      <td>21</td>\n",
       "      <td>28</td>\n",
       "      <td>70</td>\n",
       "    </tr>\n",
       "    <tr>\n",
       "      <th>Basket3</th>\n",
       "      <td>5</td>\n",
       "      <td>5</td>\n",
       "      <td>0</td>\n",
       "      <td>0</td>\n",
       "      <td>10</td>\n",
       "    </tr>\n",
       "    <tr>\n",
       "      <th>Sum Fruit</th>\n",
       "      <td>22</td>\n",
       "      <td>39</td>\n",
       "      <td>51</td>\n",
       "      <td>68</td>\n",
       "      <td>180</td>\n",
       "    </tr>\n",
       "  </tbody>\n",
       "</table>\n",
       "</div>"
      ],
      "text/plain": [
       "           Apple  Orange  Banana  Pear  Sum Basket\n",
       "Basket1       10      20      30    40         100\n",
       "Basket2        7      14      21    28          70\n",
       "Basket3        5       5       0     0          10\n",
       "Sum Fruit     22      39      51    68         180"
      ]
     },
     "execution_count": 48,
     "metadata": {},
     "output_type": "execute_result"
    }
   ],
   "source": [
    "\n",
    "import pandas as pd\n",
    " \n",
    "df = pd.DataFrame([[10, 20, 30, 40], [7, 14, 21, 28], [5, 5, 0, 0]],\n",
    "                  columns=['Apple', 'Orange', 'Banana', 'Pear'],\n",
    "                  index=['Basket1', 'Basket2', 'Basket3'])\n",
    " \n",
    "df['Sum Basket'] = df.sum(axis=1)\n",
    "df.loc['Sum Fruit'] = df.sum()\n",
    " \n",
    "df"
   ]
  },
  {
   "cell_type": "markdown",
   "id": "6c2cf89b",
   "metadata": {},
   "source": [
    "# Join two columns of text in DataFrame in pandas\n"
   ]
  },
  {
   "cell_type": "markdown",
   "id": "b947aab2",
   "metadata": {},
   "source": [
    "## Join two columns:\n"
   ]
  },
  {
   "cell_type": "code",
   "execution_count": 49,
   "id": "35fdcdbf",
   "metadata": {},
   "outputs": [
    {
     "name": "stdout",
     "output_type": "stream",
     "text": [
      "\n",
      "------------ BEFORE ----------------\n",
      "\n",
      "     Name Age\n",
      "1   Rocky  21\n",
      "2   Sunny  22\n",
      "3    Mark  25\n",
      "4  Taylor  28\n",
      "\n",
      "------------ AFTER ----------------\n",
      "\n",
      "      Employee\n",
      "1   Rocky - 21\n",
      "2   Sunny - 22\n",
      "3    Mark - 25\n",
      "4  Taylor - 28\n"
     ]
    }
   ],
   "source": [
    "\n",
    "import pandas as pd\n",
    " \n",
    "df = pd.DataFrame(columns=['Name', 'Age'])\n",
    " \n",
    "df.loc[1, 'Name'] = 'Rocky'\n",
    "df.loc[1, 'Age'] = 21\n",
    " \n",
    "df.loc[2, 'Name'] = 'Sunny'\n",
    "df.loc[2, 'Age'] = 22\n",
    " \n",
    "df.loc[3, 'Name'] = 'Mark'\n",
    "df.loc[3, 'Age'] = 25\n",
    " \n",
    "df.loc[4, 'Name'] = 'Taylor'\n",
    "df.loc[4, 'Age'] = 28\n",
    " \n",
    "print('\\n------------ BEFORE ----------------\\n')\n",
    "print(df)\n",
    " \n",
    "df['Employee'] = df['Name'].map(str) + ' - ' + df['Age'].map(str)\n",
    "df = df.reindex(['Employee'], axis=1)\n",
    " \n",
    "print('\\n------------ AFTER ----------------\\n')\n",
    "print(df)\n"
   ]
  },
  {
   "cell_type": "markdown",
   "id": "dd317536",
   "metadata": {},
   "source": [
    "# How to filter rows containing a string pattern in Pandas DataFrame?\n"
   ]
  },
  {
   "cell_type": "markdown",
   "id": "3ed715cc",
   "metadata": {},
   "source": [
    "## Filter rows which contain specific keyword:\n"
   ]
  },
  {
   "cell_type": "code",
   "execution_count": 50,
   "id": "8dfe0663",
   "metadata": {},
   "outputs": [
    {
     "name": "stdout",
     "output_type": "stream",
     "text": [
      "          DateOfBirth State\n",
      "Jane       1986-11-11    NY\n",
      "Nick       1999-05-12    TX\n",
      "Aaron      1976-01-01    FL\n",
      "Penelope   1986-06-01    AL\n",
      "Dean       1983-06-04    AK\n",
      "Christina  1990-03-07    TX\n",
      "Cornelia   1999-07-09    TX\n",
      "\n",
      "---- Filter with State contains TX ----\n",
      "\n",
      "          DateOfBirth State\n",
      "Nick       1999-05-12    TX\n",
      "Christina  1990-03-07    TX\n",
      "Cornelia   1999-07-09    TX\n"
     ]
    }
   ],
   "source": [
    "\n",
    "import pandas as pd\n",
    " \n",
    "df = pd.DataFrame({'DateOfBirth': ['1986-11-11', '1999-05-12', '1976-01-01',\n",
    "                                   '1986-06-01', '1983-06-04', '1990-03-07',\n",
    "                                   '1999-07-09'],\n",
    "                   'State': ['NY', 'TX', 'FL', 'AL', 'AK', 'TX', 'TX']\n",
    "                   },\n",
    "                  index=['Jane', 'Nick', 'Aaron', 'Penelope', 'Dean',\n",
    "                         'Christina', 'Cornelia'])\n",
    "print(df)\n",
    " \n",
    "print(\"\\n---- Filter with State contains TX ----\\n\")\n",
    "df1 = df[df['State'].str.contains(\"TX\")]\n",
    " \n",
    "print(df1)"
   ]
  },
  {
   "cell_type": "markdown",
   "id": "928c16d3",
   "metadata": {},
   "source": [
    "# Filtering DataFrame index row containing a string pattern from a Pandas\n"
   ]
  },
  {
   "cell_type": "markdown",
   "id": "7a789e1a",
   "metadata": {},
   "source": [
    "## Filtering DataFrame Index:\n"
   ]
  },
  {
   "cell_type": "code",
   "execution_count": 51,
   "id": "331f5650",
   "metadata": {},
   "outputs": [
    {
     "name": "stdout",
     "output_type": "stream",
     "text": [
      "          DateOfBirth State\n",
      "Jane       1986-11-11    NY\n",
      "Pane       1999-05-12    TX\n",
      "Aaron      1976-01-01    FL\n",
      "Penelope   1986-06-01    AL\n",
      "Frane      1983-06-04    AK\n",
      "Christina  1990-03-07    TX\n",
      "Cornelia   1999-07-09    TX\n",
      "\n",
      "---- Filter Index contains ane ----\n",
      "\n",
      "      DateOfBirth State\n",
      "Jane   1986-11-11    NY\n",
      "Pane   1999-05-12    TX\n",
      "Frane  1983-06-04    AK\n"
     ]
    }
   ],
   "source": [
    "import pandas as pd\n",
    " \n",
    "df = pd.DataFrame({'DateOfBirth': ['1986-11-11', '1999-05-12', '1976-01-01',\n",
    "                                   '1986-06-01', '1983-06-04', '1990-03-07',\n",
    "                                   '1999-07-09'],\n",
    "                   'State': ['NY', 'TX', 'FL', 'AL', 'AK', 'TX', 'TX']\n",
    "                   },\n",
    "                  index=['Jane', 'Pane', 'Aaron', 'Penelope', 'Frane',\n",
    "                         'Christina', 'Cornelia'])\n",
    "print(df)\n",
    "print(\"\\n---- Filter Index contains ane ----\\n\")\n",
    "df.index = df.index.astype('str')\n",
    "df1 = df[df.index.str.contains('ane')]\n",
    " \n",
    "print(df1)"
   ]
  },
  {
   "cell_type": "markdown",
   "id": "df730b47",
   "metadata": {},
   "source": [
    "# How to filter DataFrame rows containing specific string values with an AND operator?\n"
   ]
  },
  {
   "cell_type": "markdown",
   "id": "ac6a2904",
   "metadata": {},
   "source": [
    "## Filter DataFrame rows with an AND operator:\n"
   ]
  },
  {
   "cell_type": "code",
   "execution_count": 52,
   "id": "a3c7d626",
   "metadata": {},
   "outputs": [
    {
     "name": "stdout",
     "output_type": "stream",
     "text": [
      "          DateOfBirth State\n",
      "Jane       1986-11-11    NY\n",
      "Pane       1999-05-12    TX\n",
      "Aaron      1976-01-01    FL\n",
      "Penelope   1986-06-01    AL\n",
      "Frane      1983-06-04    AK\n",
      "Christina  1990-03-07    TX\n",
      "Cornelia   1999-07-09    TX\n",
      "\n",
      "---- Filter DataFrame using & ----\n",
      "\n",
      "     DateOfBirth State\n",
      "Pane  1999-05-12    TX\n"
     ]
    }
   ],
   "source": [
    "\n",
    "import pandas as pd\n",
    " \n",
    "df = pd.DataFrame({'DateOfBirth': ['1986-11-11', '1999-05-12', '1976-01-01',\n",
    "                                   '1986-06-01', '1983-06-04', '1990-03-07',\n",
    "                                   '1999-07-09'],\n",
    "                   'State': ['NY', 'TX', 'FL', 'AL', 'AK', 'TX', 'TX']\n",
    "                   },\n",
    "                  index=['Jane', 'Pane', 'Aaron', 'Penelope', 'Frane',\n",
    "                         'Christina', 'Cornelia'])\n",
    "print(df)\n",
    " \n",
    "print(\"\\n---- Filter DataFrame using & ----\\n\")\n",
    " \n",
    "df.index = df.index.astype('str')\n",
    "df1 = df[df.index.str.contains('ane') & df['State'].str.contains(\"TX\")]\n",
    " \n",
    "print(df1)"
   ]
  },
  {
   "cell_type": "markdown",
   "id": "ed37547a",
   "metadata": {},
   "source": [
    "# How to find all rows in a DataFrame that contain a substring?\n"
   ]
  },
  {
   "cell_type": "markdown",
   "id": "919a129c",
   "metadata": {},
   "source": [
    "## Filter DataFrame rows using OR operator:\n"
   ]
  },
  {
   "cell_type": "code",
   "execution_count": 53,
   "id": "c58f7b4f",
   "metadata": {},
   "outputs": [
    {
     "name": "stdout",
     "output_type": "stream",
     "text": [
      "          DateOfBirth State\n",
      "Jane       1986-11-11    NY\n",
      "Pane       1999-05-12    TX\n",
      "Aaron      1976-01-01    FL\n",
      "Penelope   1986-06-01    AL\n",
      "Frane      1983-06-04    AK\n",
      "Christina  1990-03-07    TX\n",
      "Cornelia   1999-07-09    TX\n",
      "\n",
      "---- Filter DataFrame using & ----\n",
      "\n",
      "          DateOfBirth State\n",
      "Jane       1986-11-11    NY\n",
      "Pane       1999-05-12    TX\n",
      "Frane      1983-06-04    AK\n",
      "Christina  1990-03-07    TX\n",
      "Cornelia   1999-07-09    TX\n"
     ]
    }
   ],
   "source": [
    "\n",
    "import pandas as pd\n",
    " \n",
    "df = pd.DataFrame({'DateOfBirth': ['1986-11-11', '1999-05-12', '1976-01-01',\n",
    "                                   '1986-06-01', '1983-06-04', '1990-03-07',\n",
    "                                   '1999-07-09'],\n",
    "                   'State': ['NY', 'TX', 'FL', 'AL', 'AK', 'TX', 'TX']\n",
    "                   },\n",
    "                  index=['Jane', 'Pane', 'Aaron', 'Penelope', 'Frane',\n",
    "                         'Christina', 'Cornelia'])\n",
    "print(df)\n",
    " \n",
    "print(\"\\n---- Filter DataFrame using & ----\\n\")\n",
    " \n",
    "df.index = df.index.astype('str')\n",
    "df1 = df[df.index.str.contains('ane') | df['State'].str.contains(\"TX\")]\n",
    " \n",
    "print(df1)"
   ]
  },
  {
   "cell_type": "markdown",
   "id": "7e1e7b18",
   "metadata": {},
   "source": [
    "\n",
    "# If value in row in DataFrame contains string create another column equal to string in Pandas\n"
   ]
  },
  {
   "cell_type": "markdown",
   "id": "2c46429d",
   "metadata": {},
   "source": [
    "## Example of where():\n"
   ]
  },
  {
   "cell_type": "code",
   "execution_count": 54,
   "id": "e52be3cd",
   "metadata": {},
   "outputs": [
    {
     "name": "stderr",
     "output_type": "stream",
     "text": [
      "/tmp/ipykernel_62330/2638225330.py:13: FutureWarning: The pandas.np module is deprecated and will be removed from pandas in a future version. Import numpy directly instead\n",
      "  df['Department'] = pd.np.where(df.Occupation.str.contains(\"Chemist\"), \"Science\",\n",
      "/tmp/ipykernel_62330/2638225330.py:14: FutureWarning: The pandas.np module is deprecated and will be removed from pandas in a future version. Import numpy directly instead\n",
      "  pd.np.where(df.Occupation.str.contains(\"Statistician\"), \"Economics\",\n",
      "/tmp/ipykernel_62330/2638225330.py:15: FutureWarning: The pandas.np module is deprecated and will be removed from pandas in a future version. Import numpy directly instead\n",
      "  pd.np.where(df.Occupation.str.contains(\"Programmer\"), \"Computer\", \"General\")))\n"
     ]
    },
    {
     "data": {
      "text/html": [
       "<div>\n",
       "<style scoped>\n",
       "    .dataframe tbody tr th:only-of-type {\n",
       "        vertical-align: middle;\n",
       "    }\n",
       "\n",
       "    .dataframe tbody tr th {\n",
       "        vertical-align: top;\n",
       "    }\n",
       "\n",
       "    .dataframe thead th {\n",
       "        text-align: right;\n",
       "    }\n",
       "</style>\n",
       "<table border=\"1\" class=\"dataframe\">\n",
       "  <thead>\n",
       "    <tr style=\"text-align: right;\">\n",
       "      <th></th>\n",
       "      <th>EmpCode</th>\n",
       "      <th>Name</th>\n",
       "      <th>Occupation</th>\n",
       "      <th>Date Of Join</th>\n",
       "      <th>Age</th>\n",
       "      <th>Department</th>\n",
       "    </tr>\n",
       "  </thead>\n",
       "  <tbody>\n",
       "    <tr>\n",
       "      <th>0</th>\n",
       "      <td>Emp001</td>\n",
       "      <td>John</td>\n",
       "      <td>Chemist</td>\n",
       "      <td>2018-01-25</td>\n",
       "      <td>23</td>\n",
       "      <td>Science</td>\n",
       "    </tr>\n",
       "    <tr>\n",
       "      <th>1</th>\n",
       "      <td>Emp002</td>\n",
       "      <td>Doe</td>\n",
       "      <td>Accountant</td>\n",
       "      <td>2018-01-26</td>\n",
       "      <td>24</td>\n",
       "      <td>General</td>\n",
       "    </tr>\n",
       "    <tr>\n",
       "      <th>2</th>\n",
       "      <td>Emp003</td>\n",
       "      <td>William</td>\n",
       "      <td>Statistician</td>\n",
       "      <td>2018-01-26</td>\n",
       "      <td>34</td>\n",
       "      <td>Economics</td>\n",
       "    </tr>\n",
       "    <tr>\n",
       "      <th>3</th>\n",
       "      <td>Emp004</td>\n",
       "      <td>Spark</td>\n",
       "      <td>Statistician</td>\n",
       "      <td>2018-02-26</td>\n",
       "      <td>29</td>\n",
       "      <td>Economics</td>\n",
       "    </tr>\n",
       "    <tr>\n",
       "      <th>4</th>\n",
       "      <td>Emp005</td>\n",
       "      <td>Mark</td>\n",
       "      <td>Programmer</td>\n",
       "      <td>2018-03-16</td>\n",
       "      <td>40</td>\n",
       "      <td>Computer</td>\n",
       "    </tr>\n",
       "  </tbody>\n",
       "</table>\n",
       "</div>"
      ],
      "text/plain": [
       "  EmpCode     Name    Occupation Date Of Join  Age Department\n",
       "0  Emp001     John       Chemist   2018-01-25   23    Science\n",
       "1  Emp002      Doe    Accountant   2018-01-26   24    General\n",
       "2  Emp003  William  Statistician   2018-01-26   34  Economics\n",
       "3  Emp004    Spark  Statistician   2018-02-26   29  Economics\n",
       "4  Emp005     Mark    Programmer   2018-03-16   40   Computer"
      ]
     },
     "execution_count": 54,
     "metadata": {},
     "output_type": "execute_result"
    }
   ],
   "source": [
    "import pandas as pd\n",
    "import numpy as np\n",
    " \n",
    "df = pd.DataFrame({\n",
    "    'EmpCode': ['Emp001', 'Emp002', 'Emp003', 'Emp004', 'Emp005'],\n",
    "    'Name': ['John', 'Doe', 'William', 'Spark', 'Mark'],\n",
    "    'Occupation': ['Chemist', 'Accountant', 'Statistician',\n",
    "                   'Statistician', 'Programmer'],\n",
    "    'Date Of Join': ['2018-01-25', '2018-01-26', '2018-01-26', '2018-02-26',\n",
    "                     '2018-03-16'],\n",
    "    'Age': [23, 24, 34, 29, 40]})\n",
    " \n",
    "df['Department'] = pd.np.where(df.Occupation.str.contains(\"Chemist\"), \"Science\",\n",
    "                               pd.np.where(df.Occupation.str.contains(\"Statistician\"), \"Economics\",\n",
    "                               pd.np.where(df.Occupation.str.contains(\"Programmer\"), \"Computer\", \"General\")))\n",
    " \n",
    "df"
   ]
  },
  {
   "cell_type": "markdown",
   "id": "0de6f3f0",
   "metadata": {},
   "source": [
    "# How to count number of rows per group in pandas group by?\n"
   ]
  },
  {
   "cell_type": "markdown",
   "id": "4c0caf5e",
   "metadata": {},
   "source": [
    "## Count number of rows per group:\n"
   ]
  },
  {
   "cell_type": "code",
   "execution_count": 55,
   "id": "9c75defd",
   "metadata": {},
   "outputs": [
    {
     "name": "stdout",
     "output_type": "stream",
     "text": [
      "         Apple  Orange  Rice  Oil\n",
      "Basket1     10      20    30   40\n",
      "Basket2      7      14    21   28\n",
      "Basket3      5       5     0    0\n",
      "Basket4      6       6     6    6\n",
      "Basket5      8       8     8    8\n",
      "Basket6      5       5     0    0\n",
      "\n",
      " ----------------------------- \n",
      "\n",
      "      Orange        Rice         Oil      \n",
      "        mean count  mean count  mean count\n",
      "Apple                                     \n",
      "5        5.0     2   0.0     2   0.0     2\n",
      "6        6.0     1   6.0     1   6.0     1\n",
      "7       14.0     1  21.0     1  28.0     1\n",
      "8        8.0     1   8.0     1   8.0     1\n",
      "10      20.0     1  30.0     1  40.0     1\n"
     ]
    }
   ],
   "source": [
    "\n",
    "import pandas as pd\n",
    "\n",
    "df = pd.DataFrame([[10, 20, 30, 40], [7, 14, 21, 28], [5, 5, 0, 0],\n",
    "                   [6, 6, 6, 6], [8, 8, 8, 8], [5, 5, 0, 0]],\n",
    "                  columns=['Apple', 'Orange', 'Rice', 'Oil'],\n",
    "                  index=['Basket1', 'Basket2', 'Basket3',\n",
    "                         'Basket4', 'Basket5', 'Basket6'])\n",
    " \n",
    "print(df)\n",
    "print(\"\\n ----------------------------- \\n\")\n",
    "print(df[['Apple', 'Orange', 'Rice', 'Oil']].\n",
    "      groupby(['Apple']).agg(['mean', 'count']))"
   ]
  },
  {
   "cell_type": "markdown",
   "id": "76d900e2",
   "metadata": {},
   "source": [
    "# Check if string is in a pandas DataFrame\n"
   ]
  },
  {
   "cell_type": "markdown",
   "id": "4abe0440",
   "metadata": {},
   "source": [
    "## Example of any():\n"
   ]
  },
  {
   "cell_type": "code",
   "execution_count": 56,
   "id": "e679969c",
   "metadata": {},
   "outputs": [
    {
     "name": "stdout",
     "output_type": "stream",
     "text": [
      "TX is there\n"
     ]
    }
   ],
   "source": [
    "import pandas as pd\n",
    " \n",
    "df = pd.DataFrame({'DateOfBirth': ['1986-11-11', '1999-05-12', '1976-01-01',\n",
    "                                   '1986-06-01', '1983-06-04', '1990-03-07',\n",
    "                                   '1999-07-09'],\n",
    "                   'State': ['NY', 'TX', 'FL', 'AL', 'AK', 'TX', 'TX']\n",
    "                   },\n",
    "                  index=['Jane', 'Pane', 'Aaron', 'Penelope', 'Frane',\n",
    "                         'Christina', 'Cornelia'])\n",
    " \n",
    "if df['State'].str.contains('TX').any():\n",
    "    print(\"TX is there\")"
   ]
  },
  {
   "cell_type": "markdown",
   "id": "570242d1",
   "metadata": {},
   "source": [
    "# Get Unique row values from DataFrame Column\n"
   ]
  },
  {
   "cell_type": "markdown",
   "id": "c23f53b2",
   "metadata": {},
   "source": [
    "## Get Unique row values:\n"
   ]
  },
  {
   "cell_type": "code",
   "execution_count": 57,
   "id": "88e70f15",
   "metadata": {},
   "outputs": [
    {
     "name": "stdout",
     "output_type": "stream",
     "text": [
      "          State\n",
      "Jane         NY\n",
      "Nick         TX\n",
      "Aaron        FL\n",
      "Penelope     AL\n",
      "Dean         AK\n",
      "Christina    TX\n",
      "Cornelia     TX\n",
      "\n",
      "----------------\n",
      "\n",
      "['NY' 'TX' 'FL' 'AL' 'AK']\n"
     ]
    }
   ],
   "source": [
    "import pandas as pd\n",
    "\n",
    "df = pd.DataFrame({'State': ['NY', 'TX', 'FL', 'AL', 'AK', 'TX', 'TX']\n",
    "                   },\n",
    "                  index=['Jane', 'Nick', 'Aaron', 'Penelope', 'Dean',\n",
    "                         'Christina', 'Cornelia'])\n",
    " \n",
    "print(df)\n",
    "print(\"\\n----------------\\n\")\n",
    " \n",
    "print(df[\"State\"].unique())"
   ]
  },
  {
   "cell_type": "markdown",
   "id": "47443465",
   "metadata": {},
   "source": [
    "# Pandas Count Distinct Values of a DataFrame Column\n"
   ]
  },
  {
   "cell_type": "markdown",
   "id": "37a475fe",
   "metadata": {},
   "source": [
    "## Count Distinct Values:\n"
   ]
  },
  {
   "cell_type": "code",
   "execution_count": 58,
   "id": "051b7290",
   "metadata": {},
   "outputs": [
    {
     "name": "stdout",
     "output_type": "stream",
     "text": [
      "20    3\n",
      "30    2\n",
      "22    1\n",
      "40    1\n",
      "25    1\n",
      "Name: Age, dtype: int64\n"
     ]
    }
   ],
   "source": [
    "\n",
    "import pandas as pd\n",
    " \n",
    "df = pd.DataFrame({'Age': [30, 20, 22, 40, 20, 30, 20, 25],\n",
    "                    'Height': [165, 70, 120, 80, 162, 72, 124, 81],\n",
    "                    'Score': [4.6, 8.3, 9.0, 3.3, 4, 8, 9, 3],\n",
    "                    'State': ['NY', 'TX', 'FL', 'AL', 'NY', 'TX', 'FL', 'AL']},\n",
    "                   index=['Jane', 'Nick', 'Aaron', 'Penelope', 'Jaane', 'Nicky', 'Armour', 'Ponting'])\n",
    " \n",
    "print(df.Age.value_counts())\n"
   ]
  },
  {
   "cell_type": "markdown",
   "id": "cb1098d6",
   "metadata": {},
   "source": [
    "# Remove rows with duplicate indices in Pandas DataFrame\n"
   ]
  },
  {
   "cell_type": "markdown",
   "id": "6b3001f2",
   "metadata": {},
   "source": [
    "## Remove duplicate rows:\n"
   ]
  },
  {
   "cell_type": "code",
   "execution_count": 59,
   "id": "339c2aac",
   "metadata": {},
   "outputs": [
    {
     "name": "stdout",
     "output_type": "stream",
     "text": [
      "\n",
      " -------- Duplicate Rows ----------- \n",
      "\n",
      "          Age  Height  Score State\n",
      "Jane       30     165    4.6    NY\n",
      "Jane       30     165    4.6    NY\n",
      "Aaron      22     120    9.0    FL\n",
      "Penelope   40      80    3.3    AL\n",
      "Jaane      20     162    4.0    NY\n",
      "Nicky      30      72    8.0    TX\n",
      "Armour     20     124    9.0    FL\n",
      "Ponting    25      81    3.0    AL\n",
      "\n",
      " ------- Unique Rows ------------ \n",
      "\n",
      "          Age  Height  Score State\n",
      "index                             \n",
      "Jane       30     165    4.6    NY\n",
      "Aaron      22     120    9.0    FL\n",
      "Penelope   40      80    3.3    AL\n",
      "Jaane      20     162    4.0    NY\n",
      "Nicky      30      72    8.0    TX\n",
      "Armour     20     124    9.0    FL\n",
      "Ponting    25      81    3.0    AL\n"
     ]
    }
   ],
   "source": [
    "\n",
    "import pandas as pd\n",
    "\n",
    "df = pd.DataFrame({'Age': [30, 30, 22, 40, 20, 30, 20, 25],\n",
    "                   'Height': [165, 165, 120, 80, 162, 72, 124, 81],\n",
    "                   'Score': [4.6, 4.6, 9.0, 3.3, 4, 8, 9, 3],\n",
    "                   'State': ['NY', 'NY', 'FL', 'AL', 'NY', 'TX', 'FL', 'AL']},\n",
    "                  index=['Jane', 'Jane', 'Aaron', 'Penelope', 'Jaane', 'Nicky',\n",
    "                         'Armour', 'Ponting'])\n",
    " \n",
    "print(\"\\n -------- Duplicate Rows ----------- \\n\")\n",
    "print(df)\n",
    " \n",
    "df1 = df.reset_index().drop_duplicates(subset='index',\n",
    "                                       keep='first').set_index('index')\n",
    " \n",
    "print(\"\\n ------- Unique Rows ------------ \\n\")\n",
    "print(df1)"
   ]
  },
  {
   "cell_type": "markdown",
   "id": "02ff4b42",
   "metadata": {},
   "source": [
    "# Remove duplicate rows from Pandas DataFrame where only some columns have the same value\n"
   ]
  },
  {
   "cell_type": "markdown",
   "id": "facc36a8",
   "metadata": {},
   "source": [
    "## Remove duplicate rows based on two columns:\n"
   ]
  },
  {
   "cell_type": "code",
   "execution_count": 60,
   "id": "1a795dad",
   "metadata": {},
   "outputs": [
    {
     "name": "stdout",
     "output_type": "stream",
     "text": [
      "\n",
      " -------- Duplicate Rows ----------- \n",
      "\n",
      "          Age  Height  Score State\n",
      "Jane       30     120    4.6    NY\n",
      "Jane       40     162    4.6    NY\n",
      "Aaron      30     120    9.0    FL\n",
      "Penelope   40     120    3.3    AL\n",
      "Jaane      30     120    4.0    NY\n",
      "Nicky      30      72    8.0    TX\n",
      "Armour     20     120    9.0    FL\n",
      "Ponting    25      81    3.0    AL\n",
      "\n",
      " ------- Unique Rows ------------ \n",
      "\n",
      "          Age  Height  Score State\n",
      "index                             \n",
      "Jane       30     120    4.6    NY\n",
      "Jane       40     162    4.6    NY\n",
      "Penelope   40     120    3.3    AL\n",
      "Nicky      30      72    8.0    TX\n",
      "Armour     20     120    9.0    FL\n",
      "Ponting    25      81    3.0    AL\n"
     ]
    }
   ],
   "source": [
    "import pandas as pd\n",
    "\n",
    "df = pd.DataFrame({'Age': [30, 40, 30, 40, 30, 30, 20, 25],\n",
    "                   'Height': [120, 162, 120, 120, 120, 72, 120, 81],\n",
    "                   'Score': [4.6, 4.6, 9.0, 3.3, 4, 8, 9, 3],\n",
    "                   'State': ['NY', 'NY', 'FL', 'AL', 'NY', 'TX', 'FL', 'AL']},\n",
    "                  index=['Jane', 'Jane', 'Aaron', 'Penelope', 'Jaane', 'Nicky',\n",
    "                         'Armour', 'Ponting'])\n",
    " \n",
    "print(\"\\n -------- Duplicate Rows ----------- \\n\")\n",
    "print(df)\n",
    " \n",
    "df1 = df.reset_index().drop_duplicates(subset=['Age','Height'],\n",
    "                                       keep='first').set_index('index')\n",
    " \n",
    "print(\"\\n ------- Unique Rows ------------ \\n\")\n",
    "print(df1)"
   ]
  },
  {
   "cell_type": "markdown",
   "id": "d11a419e",
   "metadata": {},
   "source": [
    "# How to get a value from a cell of a DataFrame?\n"
   ]
  },
  {
   "cell_type": "markdown",
   "id": "af579b46",
   "metadata": {},
   "source": [
    "## Get value of a specific cell:\n"
   ]
  },
  {
   "cell_type": "code",
   "execution_count": 61,
   "id": "3bda7b13",
   "metadata": {},
   "outputs": [
    {
     "name": "stdout",
     "output_type": "stream",
     "text": [
      "          Age  Height  Score State\n",
      "Jane       30     120    4.6    NY\n",
      "Jane       40     162    4.6    NY\n",
      "Aaron      30     120    9.0    FL\n",
      "Penelope   40     120    3.3    AL\n",
      "Jaane      30     120    4.0    NY\n",
      "Nicky      30      72    8.0    TX\n",
      "Armour     20     120    9.0    FL\n",
      "Ponting    25      81    3.0    AL\n",
      "/n---------------------/n\n",
      "30\n"
     ]
    }
   ],
   "source": [
    "\n",
    "import pandas as pd\n",
    " \n",
    "df = pd.DataFrame({'Age': [30, 40, 30, 40, 30, 30, 20, 25],\n",
    "                   'Height': [120, 162, 120, 120, 120, 72, 120, 81],\n",
    "                   'Score': [4.6, 4.6, 9.0, 3.3, 4, 8, 9, 3],\n",
    "                   'State': ['NY', 'NY', 'FL', 'AL', 'NY', 'TX', 'FL', 'AL']},\n",
    "                  index=['Jane', 'Jane', 'Aaron', 'Penelope', 'Jaane', 'Nicky',\n",
    "                         'Armour', 'Ponting'])\n",
    "print(df)\n",
    "\n",
    "\n",
    "print('/n---------------------/n')\n",
    "\n",
    "\n",
    "print(df.loc['Nicky', 'Age'])"
   ]
  },
  {
   "cell_type": "markdown",
   "id": "06dca202",
   "metadata": {},
   "source": [
    "# How to get scalar value on a cell using conditional indexing from Pandas DataFrame\n"
   ]
  },
  {
   "cell_type": "markdown",
   "id": "677bf5b2",
   "metadata": {},
   "source": [
    "## Get scalar value of a cell using conditional indexing:\n"
   ]
  },
  {
   "cell_type": "code",
   "execution_count": 62,
   "id": "7fc6363d",
   "metadata": {},
   "outputs": [
    {
     "name": "stdout",
     "output_type": "stream",
     "text": [
      "          Age  Height  Score State\n",
      "Jane       30     120    4.6    NY\n",
      "Jane       40     162    4.6    NY\n",
      "Aaron      30     120    9.0    FL\n",
      "Penelope   40     120    3.3    AL\n",
      "Jaane      30     120    4.0    NY\n",
      "Nicky      30      72    8.0    TX\n",
      "Armour     20     120    9.0    FL\n",
      "Ponting    25      81    3.0    AL\n",
      "\n",
      "Get Height where Age is 20\n",
      "120\n",
      "\n",
      "Get State where Age is 30\n",
      "NY\n"
     ]
    }
   ],
   "source": [
    "import pandas as pd\n",
    "\n",
    "df = pd.DataFrame({'Age': [30, 40, 30, 40, 30, 30, 20, 25],\n",
    "                   'Height': [120, 162, 120, 120, 120, 72, 120, 81],\n",
    "                   'Score': [4.6, 4.6, 9.0, 3.3, 4, 8, 9, 3],\n",
    "                   'State': ['NY', 'NY', 'FL', 'AL', 'NY', 'TX', 'FL', 'AL']},\n",
    "                  index=['Jane', 'Jane', 'Aaron', 'Penelope', 'Jaane', 'Nicky',\n",
    "                         'Armour', 'Ponting'])\n",
    "print(df)\n",
    "print(\"\\nGet Height where Age is 20\")\n",
    "print(df.loc[df['Age'] == 20, 'Height'].values[0])\n",
    " \n",
    "print(\"\\nGet State where Age is 30\")\n",
    "print(df.loc[df['Age'] == 30, 'State'].values[0])"
   ]
  },
  {
   "cell_type": "markdown",
   "id": "eb35ceb3",
   "metadata": {},
   "source": [
    "# How set a particular cell value of DataFrame in Pandas?\n"
   ]
  },
  {
   "cell_type": "markdown",
   "id": "c4ac4a02",
   "metadata": {},
   "source": [
    "## Set value of a particular Cell:\n"
   ]
  },
  {
   "cell_type": "code",
   "execution_count": 63,
   "id": "3ec19e2a",
   "metadata": {},
   "outputs": [
    {
     "name": "stdout",
     "output_type": "stream",
     "text": [
      "\n",
      "--------------Before------------\n",
      "\n",
      "          Age  Height\n",
      "Jane       30     120\n",
      "Jane       40     162\n",
      "Aaron      30     120\n",
      "Penelope   40     120\n",
      "Jaane      30     120\n",
      "Nicky      30      72\n",
      "Armour     20     120\n",
      "Ponting    25      81\n",
      "\n",
      "--------------After------------\n",
      "\n",
      "          Age  Height\n",
      "Jane       90     120\n",
      "Jane       91      92\n",
      "Aaron      93     120\n",
      "Penelope   40     120\n",
      "Jaane      30     120\n",
      "Nicky      30      72\n",
      "Armour     20     120\n",
      "Ponting    25      99\n"
     ]
    }
   ],
   "source": [
    "import pandas as pd\n",
    " \n",
    "df = pd.DataFrame({'Age': [30, 40, 30, 40, 30, 30, 20, 25],\n",
    "                   'Height': [120, 162, 120, 120, 120, 72, 120, 81]},\n",
    "                  index=['Jane', 'Jane', 'Aaron', 'Penelope', 'Jaane', 'Nicky',\n",
    "                         'Armour', 'Ponting'])\n",
    "print(\"\\n--------------Before------------\\n\")\n",
    "print(df)\n",
    " \n",
    "df.iat[0, 0] = 90\n",
    "df.iat[1, 0] = 91\n",
    "df.iat[1, 1] = 92\n",
    "df.iat[2, 0] = 93\n",
    "df.iat[7, 1] = 99\n",
    " \n",
    "print(\"\\n--------------After------------\\n\")\n",
    "print(df)"
   ]
  },
  {
   "cell_type": "markdown",
   "id": "feb1856b",
   "metadata": {},
   "source": [
    "# Get cell value from a Pandas DataFrame row\n"
   ]
  },
  {
   "cell_type": "markdown",
   "id": "aa9e54a1",
   "metadata": {},
   "source": [
    "## Get list of cell value conditionally:\n"
   ]
  },
  {
   "cell_type": "code",
   "execution_count": 64,
   "id": "b2a0dddc",
   "metadata": {},
   "outputs": [
    {
     "name": "stdout",
     "output_type": "stream",
     "text": [
      "          Age  Height\n",
      "Jane       30     120\n",
      "Jane       40     162\n",
      "Aaron      30     120\n",
      "Penelope   40     120\n",
      "Jaane      30     120\n",
      "Nicky      30      72\n",
      "Armour     20     120\n",
      "Ponting    25      81\n",
      "\n",
      "\n",
      "\n",
      "[120, 120, 120, 72]\n"
     ]
    }
   ],
   "source": [
    "import pandas as pd\n",
    " \n",
    "df = pd.DataFrame({'Age': [30, 40, 30, 40, 30, 30, 20, 25],\n",
    "                   'Height': [120, 162, 120, 120, 120, 72, 120, 81]},\n",
    "                  index=['Jane', 'Jane', 'Aaron', 'Penelope', 'Jaane', 'Nicky',\n",
    "                         'Armour', 'Ponting'])\n",
    "print(df)\n",
    "\n",
    "print(\"\\n\\n\")\n",
    "\n",
    "print(df.loc[df.Age == 30,'Height'].tolist())"
   ]
  },
  {
   "cell_type": "markdown",
   "id": "d1821bef",
   "metadata": {},
   "source": [
    "# Replace values in DataFrame column with a dictionary in Pandas\n"
   ]
  },
  {
   "cell_type": "markdown",
   "id": "41d5dfc1",
   "metadata": {},
   "source": [
    "## Replace values in column with a dictionary:\n"
   ]
  },
  {
   "cell_type": "code",
   "execution_count": 65,
   "id": "f8c39541",
   "metadata": {},
   "outputs": [
    {
     "name": "stdout",
     "output_type": "stream",
     "text": [
      "          State\n",
      "Jane         NY\n",
      "Nick         TX\n",
      "Aaron        FL\n",
      "Penelope     AL\n",
      "Dean         AK\n",
      "Christina    TX\n",
      "Cornelia     TX\n",
      "\n",
      "\n",
      "\n",
      "           State\n",
      "Jane           1\n",
      "Nick           2\n",
      "Aaron          3\n",
      "Penelope       4\n",
      "Dean           5\n",
      "Christina      2\n",
      "Cornelia       2\n"
     ]
    }
   ],
   "source": [
    "import pandas as pd\n",
    " \n",
    "df = pd.DataFrame({'State': ['NY', 'TX', 'FL', 'AL', 'AK', 'TX', 'TX']\n",
    "                   },\n",
    "                  index=['Jane', 'Nick', 'Aaron', 'Penelope', 'Dean',\n",
    "                         'Christina', 'Cornelia'])\n",
    " \n",
    "print(df)\n",
    " \n",
    "dict = {\"NY\": 1, \"TX\": 2, \"FL\": 3, \"AL\": 4, \"AK\": 5}\n",
    "df1 = df.replace({\"State\": dict})\n",
    " \n",
    "print(\"\\n\\n\")\n",
    "print(df1)"
   ]
  },
  {
   "cell_type": "markdown",
   "id": "6e8e0c94",
   "metadata": {},
   "source": [
    "# Pandas Count distinct Values of one column depend on another column\n"
   ]
  },
  {
   "cell_type": "markdown",
   "id": "c5594fd5",
   "metadata": {},
   "source": [
    "## Count distinct equivalent:\n"
   ]
  },
  {
   "cell_type": "code",
   "execution_count": 66,
   "id": "4c8c5303",
   "metadata": {},
   "outputs": [
    {
     "name": "stdout",
     "output_type": "stream",
     "text": [
      "          DateOfBirth State\n",
      "Jane       1986-11-11    NY\n",
      "Nick       1999-05-12    TX\n",
      "Aaron      1976-01-01    FL\n",
      "Penelope   1986-06-01    AL\n",
      "Dean       1983-06-04    AK\n",
      "Christina  1990-03-07    TX\n",
      "Cornelia   1999-07-09    TX\n",
      "\n",
      "\n",
      "\n",
      "State\n",
      "AK    1\n",
      "AL    1\n",
      "FL    1\n",
      "NY    1\n",
      "TX    3\n",
      "Name: DateOfBirth, dtype: int64\n"
     ]
    }
   ],
   "source": [
    "import pandas as pd\n",
    " \n",
    "df = pd.DataFrame({'DateOfBirth': ['1986-11-11', '1999-05-12', '1976-01-01',\n",
    "                                   '1986-06-01', '1983-06-04', '1990-03-07',\n",
    "                                   '1999-07-09'],                   \n",
    "                   'State': ['NY', 'TX', 'FL', 'AL', 'AK', 'TX', 'TX']\n",
    "                   },\n",
    "                  index=['Jane', 'Nick', 'Aaron', 'Penelope', 'Dean',\n",
    "                         'Christina', 'Cornelia'])\n",
    "print(df)\n",
    "print('\\n\\n')\n",
    "print(df.groupby('State').DateOfBirth.nunique())"
   ]
  },
  {
   "cell_type": "markdown",
   "id": "49726838",
   "metadata": {},
   "source": [
    "# How we can handle missing data in a pandas DataFrame?\n"
   ]
  },
  {
   "cell_type": "markdown",
   "id": "dc043126",
   "metadata": {},
   "source": [
    "## Example of isnull() and notnull():\n"
   ]
  },
  {
   "cell_type": "code",
   "execution_count": 67,
   "id": "ea155abf",
   "metadata": {},
   "outputs": [
    {
     "name": "stdout",
     "output_type": "stream",
     "text": [
      "\n",
      "--------- DataFrame ---------\n",
      "\n",
      "         Apple  Orange  Banana  Pear\n",
      "Basket1     10    20.0    30.0  40.0\n",
      "Basket2      7    14.0    21.0  28.0\n",
      "Basket3      5     NaN     NaN   NaN\n",
      "\n",
      "--------- Use of isnull() ---------\n",
      "\n",
      "         Apple  Orange  Banana   Pear\n",
      "Basket1  False   False   False  False\n",
      "Basket2  False   False   False  False\n",
      "Basket3  False    True    True   True\n",
      "\n",
      "--------- Use of notnull() ---------\n",
      "\n",
      "         Apple  Orange  Banana   Pear\n",
      "Basket1   True    True    True   True\n",
      "Basket2   True    True    True   True\n",
      "Basket3   True   False   False  False\n"
     ]
    }
   ],
   "source": [
    "import pandas as pd\n",
    " \n",
    "df = pd.DataFrame([[10, 20, 30, 40], [7, 14, 21, 28], [5,]],\n",
    "                  columns=['Apple', 'Orange', 'Banana', 'Pear'],\n",
    "                  index=['Basket1', 'Basket2', 'Basket3'])\n",
    " \n",
    "print(\"\\n--------- DataFrame ---------\\n\")\n",
    "print(df)\n",
    " \n",
    "print(\"\\n--------- Use of isnull() ---------\\n\")\n",
    "print(df.isnull())\n",
    " \n",
    "print(\"\\n--------- Use of notnull() ---------\\n\")\n",
    "print(df.notnull())"
   ]
  },
  {
   "cell_type": "markdown",
   "id": "7d26ec24",
   "metadata": {},
   "source": [
    "# Pandas drops rows with any missing data\n"
   ]
  },
  {
   "cell_type": "markdown",
   "id": "515d00b7",
   "metadata": {},
   "source": [
    "## Example of dropna():\n"
   ]
  },
  {
   "cell_type": "code",
   "execution_count": 68,
   "id": "6592d37b",
   "metadata": {},
   "outputs": [
    {
     "name": "stdout",
     "output_type": "stream",
     "text": [
      "\n",
      "--------- DataFrame ---------\n",
      "\n",
      "         Apple  Orange  Banana  Pear\n",
      "Basket1     10    20.0    30.0  40.0\n",
      "Basket2      7    14.0    21.0  28.0\n",
      "Basket3      5     NaN     NaN   NaN\n",
      "\n",
      "--------- Use of dropna() ---------\n",
      "\n",
      "         Apple  Orange  Banana  Pear\n",
      "Basket1     10    20.0    30.0  40.0\n",
      "Basket2      7    14.0    21.0  28.0\n"
     ]
    }
   ],
   "source": [
    "import pandas as pd\n",
    "\n",
    "df = pd.DataFrame([[10, 20, 30, 40], [7, 14, 21, 28], [5,]],\n",
    "                  columns=['Apple', 'Orange', 'Banana', 'Pear'],\n",
    "                  index=['Basket1', 'Basket2', 'Basket3'])\n",
    " \n",
    "print(\"\\n--------- DataFrame ---------\\n\")\n",
    "print(df)\n",
    " \n",
    "print(\"\\n--------- Use of dropna() ---------\\n\")\n",
    "print(df.dropna())"
   ]
  },
  {
   "cell_type": "markdown",
   "id": "8ccf4880",
   "metadata": {},
   "source": [
    "# Drop columns with missing data in Pandas DataFrame\n"
   ]
  },
  {
   "cell_type": "markdown",
   "id": "1c6e10db",
   "metadata": {},
   "source": [
    "## Drop columns with missing data:\n"
   ]
  },
  {
   "cell_type": "code",
   "execution_count": 69,
   "id": "3f8e752b",
   "metadata": {},
   "outputs": [
    {
     "name": "stdout",
     "output_type": "stream",
     "text": [
      "\n",
      "--------- DataFrame ---------\n",
      "\n",
      "         Apple  Orange  Banana  Pear\n",
      "Basket1     10    20.0    30.0  40.0\n",
      "Basket2      7    14.0    21.0  28.0\n",
      "Basket3      5     NaN     NaN   NaN\n",
      "\n",
      "--------- Drop Columns) ---------\n",
      "\n",
      "         Apple  Orange  Banana  Pear\n",
      "Basket1     10    20.0    30.0  40.0\n",
      "Basket2      7    14.0    21.0  28.0\n"
     ]
    }
   ],
   "source": [
    "import pandas as pd\n",
    " \n",
    "df = pd.DataFrame([[10, 20, 30, 40], [7, 14, 21, 28], [5,]],\n",
    "                  columns=['Apple', 'Orange', 'Banana', 'Pear'],\n",
    "                  index=['Basket1', 'Basket2', 'Basket3'])\n",
    " \n",
    "print(\"\\n--------- DataFrame ---------\\n\")\n",
    "print(df)\n",
    " \n",
    "print(\"\\n--------- Drop Columns) ---------\\n\")\n",
    "print(df.dropna())"
   ]
  },
  {
   "cell_type": "markdown",
   "id": "8c3d0693",
   "metadata": {},
   "source": [
    "# Pandas Sort Index Values in descending order and ascending\n"
   ]
  },
  {
   "cell_type": "markdown",
   "id": "4cca26d4",
   "metadata": {},
   "source": [
    "## Sort Index in descending order:\n"
   ]
  },
  {
   "cell_type": "code",
   "execution_count": 70,
   "id": "1a99a3c7",
   "metadata": {},
   "outputs": [
    {
     "name": "stdout",
     "output_type": "stream",
     "text": [
      "          DateOfBirth State\n",
      "Aaron      1976-01-01    FL\n",
      "Christina  1990-03-07    TX\n",
      "Cornelia   1999-07-09    TX\n",
      "Frane      1983-06-04    AK\n",
      "Jane       1986-11-11    NY\n",
      "Pane       1999-05-12    TX\n",
      "Penelope   1986-06-01    AL\n",
      "\n",
      "\n",
      "\n",
      "          DateOfBirth State\n",
      "Penelope   1986-06-01    AL\n",
      "Pane       1999-05-12    TX\n",
      "Jane       1986-11-11    NY\n",
      "Frane      1983-06-04    AK\n",
      "Cornelia   1999-07-09    TX\n",
      "Christina  1990-03-07    TX\n",
      "Aaron      1976-01-01    FL\n"
     ]
    }
   ],
   "source": [
    "import pandas as pd\n",
    "\n",
    "df = pd.DataFrame({'DateOfBirth': ['1986-11-11', '1999-05-12', '1976-01-01',\n",
    "                                   '1986-06-01', '1983-06-04', '1990-03-07',\n",
    "                                   '1999-07-09'],\n",
    "                   'State': ['NY', 'TX', 'FL', 'AL', 'AK', 'TX', 'TX']\n",
    "                   },\n",
    "                  index=['Jane', 'Pane', 'Aaron', 'Penelope', 'Frane',\n",
    "                         'Christina', 'Cornelia'])\n",
    " \n",
    "print(df.sort_index(ascending=True))\n",
    "print('\\n\\n') \n",
    "print(df.sort_index(ascending=False))"
   ]
  },
  {
   "cell_type": "markdown",
   "id": "3c801f83",
   "metadata": {},
   "source": [
    "# Pandas Sort Columns in descending order\n"
   ]
  },
  {
   "cell_type": "markdown",
   "id": "e2015355",
   "metadata": {},
   "source": [
    "## Sort Column in descending order:\n"
   ]
  },
  {
   "cell_type": "code",
   "execution_count": 71,
   "id": "7b4f6acb",
   "metadata": {},
   "outputs": [
    {
     "name": "stdout",
     "output_type": "stream",
     "text": [
      "  EmpCode     Name    Occupation Date Of Join  Age\n",
      "4  Emp005     Mark    Programmer   2018-03-16   40\n",
      "3  Emp004    Spark  Statistician   2018-02-26   29\n",
      "2  Emp003  William  Statistician   2018-01-26   34\n",
      "1  Emp002      Doe  Statistician   2018-01-26   24\n",
      "0  Emp001     John       Chemist   2018-01-25   23\n",
      "\n",
      "\n",
      "\n",
      "   Age Date Of Join EmpCode     Name    Occupation\n",
      "0   23   2018-01-25  Emp001     John       Chemist\n",
      "1   24   2018-01-26  Emp002      Doe  Statistician\n",
      "2   34   2018-01-26  Emp003  William  Statistician\n",
      "3   29   2018-02-26  Emp004    Spark  Statistician\n",
      "4   40   2018-03-16  Emp005     Mark    Programmer\n",
      "\n",
      "\n",
      "\n",
      "   Age Date Of Join EmpCode     Name    Occupation\n",
      "0   23   2018-01-25  Emp001     John       Chemist\n",
      "1   24   2018-01-26  Emp002      Doe  Statistician\n",
      "2   34   2018-01-26  Emp003  William  Statistician\n",
      "3   29   2018-02-26  Emp004    Spark  Statistician\n",
      "4   40   2018-03-16  Emp005     Mark    Programmer\n",
      "\n",
      "\n",
      "\n",
      "  EmpCode     Name    Occupation Date Of Join  Age\n",
      "4  Emp005     Mark    Programmer   2018-03-16   40\n",
      "3  Emp004    Spark  Statistician   2018-02-26   29\n",
      "2  Emp003  William  Statistician   2018-01-26   34\n",
      "1  Emp002      Doe  Statistician   2018-01-26   24\n",
      "0  Emp001     John       Chemist   2018-01-25   23\n"
     ]
    }
   ],
   "source": [
    "import pandas as pd\n",
    "\n",
    "employees = pd.DataFrame({\n",
    "    'EmpCode': ['Emp001', 'Emp002', 'Emp003', 'Emp004', 'Emp005'],\n",
    "    'Name': ['John', 'Doe', 'William', 'Spark', 'Mark'],\n",
    "    'Occupation': ['Chemist', 'Statistician', 'Statistician',\n",
    "                   'Statistician', 'Programmer'],\n",
    "    'Date Of Join': ['2018-01-25', '2018-01-26', '2018-01-26', '2018-02-26',\n",
    "                     '2018-03-16'],\n",
    "    'Age': [23, 24, 34, 29, 40]})\n",
    " \n",
    "print(employees.sort_index(axis=0, ascending=False))\n",
    "\n",
    "print('\\n\\n')\n",
    "\n",
    "print(employees.sort_index(axis=1, ascending=True))\n",
    "\n",
    "print('\\n\\n')\n",
    "\n",
    "print(employees.sort_index(axis=1, ascending=True))\n",
    "\n",
    "print('\\n\\n')\n",
    "\n",
    "print(employees.sort_index(axis=0, ascending=False))"
   ]
  },
  {
   "cell_type": "markdown",
   "id": "5aa23b31",
   "metadata": {},
   "source": [
    "# Pandas use rank method to find the ranking of elements in a DataFrame\n"
   ]
  },
  {
   "cell_type": "markdown",
   "id": "b4bf1b34",
   "metadata": {},
   "source": [
    "## Example of using rank():\n"
   ]
  },
  {
   "cell_type": "code",
   "execution_count": 72,
   "id": "32dc5b68",
   "metadata": {},
   "outputs": [
    {
     "name": "stdout",
     "output_type": "stream",
     "text": [
      "\n",
      "--------- DataFrame Values--------\n",
      "\n",
      "         Apple  Orange  Banana  Pear\n",
      "Basket1     10      20      30    40\n",
      "Basket2      7      14      21    28\n",
      "Basket3      5       5       0     0\n",
      "\n",
      "--------- DataFrame Values by Rank--------\n",
      "\n",
      "         Apple  Orange  Banana  Pear\n",
      "Basket1    3.0     3.0     3.0   3.0\n",
      "Basket2    2.0     2.0     2.0   2.0\n",
      "Basket3    1.0     1.0     1.0   1.0\n"
     ]
    }
   ],
   "source": [
    "\n",
    "import pandas as pd\n",
    "\n",
    "df = pd.DataFrame([[10, 20, 30, 40], [7, 14, 21, 28], [5, 5, 0, 0]],\n",
    "                  columns=['Apple', 'Orange', 'Banana', 'Pear'],\n",
    "                  index=['Basket1', 'Basket2', 'Basket3'])\n",
    " \n",
    "print(\"\\n--------- DataFrame Values--------\\n\")\n",
    "print(df)\n",
    " \n",
    "print(\"\\n--------- DataFrame Values by Rank--------\\n\")\n",
    "print(df.rank())"
   ]
  },
  {
   "cell_type": "markdown",
   "id": "75fb2cc2",
   "metadata": {},
   "source": [
    "# Pandas set Index on multiple columns\n"
   ]
  },
  {
   "cell_type": "markdown",
   "id": "d10a2e71",
   "metadata": {},
   "source": [
    "# Multiple Indexing:\n"
   ]
  },
  {
   "cell_type": "code",
   "execution_count": 73,
   "id": "67640d24",
   "metadata": {},
   "outputs": [
    {
     "name": "stdout",
     "output_type": "stream",
     "text": [
      "\n",
      " --------- Before Index ----------- \n",
      "\n",
      "  EmpCode     Name    Occupation Date Of Join  Age\n",
      "0  Emp001     John       Chemist   2018-01-25   23\n",
      "1  Emp002      Doe  Statistician   2018-01-26   24\n",
      "2  Emp003  William  Statistician   2018-01-26   34\n",
      "3  Emp004    Spark  Statistician   2018-02-26   29\n",
      "4  Emp005     Mark    Programmer   2018-03-16   40\n",
      "\n",
      " --------- Multiple Indexing ----------- \n",
      "\n",
      "                 EmpCode     Name Date Of Join\n",
      "Occupation   Age                              \n",
      "Chemist      23   Emp001     John   2018-01-25\n",
      "Statistician 24   Emp002      Doe   2018-01-26\n",
      "             34   Emp003  William   2018-01-26\n",
      "             29   Emp004    Spark   2018-02-26\n",
      "Programmer   40   Emp005     Mark   2018-03-16\n"
     ]
    }
   ],
   "source": [
    "import pandas as pd\n",
    " \n",
    "employees = pd.DataFrame({\n",
    "    'EmpCode': ['Emp001', 'Emp002', 'Emp003', 'Emp004', 'Emp005'],\n",
    "    'Name': ['John', 'Doe', 'William', 'Spark', 'Mark'],\n",
    "    'Occupation': ['Chemist', 'Statistician', 'Statistician',\n",
    "                   'Statistician', 'Programmer'],\n",
    "    'Date Of Join': ['2018-01-25', '2018-01-26', '2018-01-26', '2018-02-26',\n",
    "                     '2018-03-16'],\n",
    "    'Age': [23, 24, 34, 29, 40]})\n",
    " \n",
    "print(\"\\n --------- Before Index ----------- \\n\")\n",
    "print(employees)\n",
    " \n",
    "print(\"\\n --------- Multiple Indexing ----------- \\n\")\n",
    "print(employees.set_index(['Occupation', 'Age']))"
   ]
  },
  {
   "cell_type": "markdown",
   "id": "672fce73",
   "metadata": {},
   "source": [
    "# Determine Period Index and Column for DataFrame in Pandas\n"
   ]
  },
  {
   "cell_type": "markdown",
   "id": "510ed46d",
   "metadata": {},
   "source": [
    "## Determine Period Index and Column for DataFrame:\n"
   ]
  },
  {
   "cell_type": "code",
   "execution_count": 74,
   "id": "10956969",
   "metadata": {},
   "outputs": [
    {
     "name": "stdout",
     "output_type": "stream",
     "text": [
      "              Country\n",
      "2015-01-01      India\n",
      "2015-01-02     Canada\n",
      "2015-01-03  Australia\n",
      "2015-01-04      Japan\n",
      "2015-01-05    Germany\n",
      "2015-01-06     France\n"
     ]
    }
   ],
   "source": [
    "\n",
    "import pandas as pd\n",
    "\n",
    "values = [\"India\", \"Canada\", \"Australia\",\n",
    "          \"Japan\", \"Germany\", \"France\"]\n",
    " \n",
    "pidx = pd.period_range('2015-01-01', periods=6)\n",
    " \n",
    "df = pd.DataFrame(values, index=pidx, columns=['Country'])\n",
    " \n",
    "print(df)"
   ]
  },
  {
   "cell_type": "markdown",
   "id": "b40404ee",
   "metadata": {},
   "source": [
    "# How to determine Period Range with Frequency in Pandas?\n"
   ]
  },
  {
   "cell_type": "markdown",
   "id": "3d4c51e3",
   "metadata": {},
   "source": [
    "## Determine Period Range with Frequency:\n"
   ]
  },
  {
   "cell_type": "code",
   "execution_count": 75,
   "id": "afdcf5cd",
   "metadata": {},
   "outputs": [
    {
     "name": "stdout",
     "output_type": "stream",
     "text": [
      "           Country\n",
      "2006-06      India\n",
      "2006-07     Canada\n",
      "2006-08  Australia\n",
      "2006-09      Japan\n",
      "2006-10    Germany\n",
      "2006-11     France\n"
     ]
    }
   ],
   "source": [
    "import pandas as pd\n",
    " \n",
    "values = [\"India\", \"Canada\", \"Australia\",\n",
    "          \"Japan\", \"Germany\", \"France\"]\n",
    " \n",
    "pidx = pd.period_range('6/1/2006', '11/1/2006', freq='M')\n",
    " \n",
    "df = pd.DataFrame(values, index=pidx, columns=['Country'])\n",
    " \n",
    "print(df)"
   ]
  },
  {
   "cell_type": "markdown",
   "id": "fb8dd633",
   "metadata": {},
   "source": [
    "# How to Import CSV to pandas with specific Index?\n"
   ]
  },
  {
   "cell_type": "markdown",
   "id": "355d4274",
   "metadata": {},
   "source": [
    "## Import CSV with specific Index:\n"
   ]
  },
  {
   "cell_type": "code",
   "execution_count": 77,
   "id": "f221a102",
   "metadata": {},
   "outputs": [
    {
     "name": "stdout",
     "output_type": "stream",
     "text": [
      "     Marks Admitted\n",
      "0     1363       No\n",
      "1     1792      Yes\n",
      "2     1954      Yes\n",
      "3     1653       No\n",
      "4     1593       No\n",
      "..     ...      ...\n",
      "163   1722      Yes\n",
      "164   1750      Yes\n",
      "165   1555       No\n",
      "166   1524       No\n",
      "167   1461       No\n",
      "\n",
      "[168 rows x 2 columns]\n"
     ]
    }
   ],
   "source": [
    "import pandas as pd\n",
    "\n",
    "url = 'Admittance.csv'\n",
    "df = pd.read_csv(url)\n",
    "print(df)"
   ]
  },
  {
   "cell_type": "markdown",
   "id": "abe1547f",
   "metadata": {},
   "source": [
    "# How to Writing DataFrame to CSV file in Pandas?\n"
   ]
  },
  {
   "cell_type": "markdown",
   "id": "4b4fae44",
   "metadata": {},
   "source": [
    "## Writing DataFrame to CSV file:\n"
   ]
  },
  {
   "cell_type": "code",
   "execution_count": 78,
   "id": "b71b9ee1",
   "metadata": {},
   "outputs": [],
   "source": [
    "\n",
    "import pandas as pd\n",
    " \n",
    "df = pd.DataFrame({'DateOfBirth': ['1986-11-11', '1999-05-12', '1976-01-01',\n",
    "                                   '1986-06-01', '1983-06-04', '1990-03-07',\n",
    "                                   '1999-07-09'],\n",
    "                   'State': ['NY', 'TX', 'FL', 'AL', 'AK', 'TX', 'TX']\n",
    "                   },\n",
    "                  index=['Jane', 'Pane', 'Aaron', 'Penelope', 'Frane',\n",
    "                         'Christina', 'Cornelia'])\n",
    " \n",
    "df.to_csv('test.csv', encoding='utf-8', index=True)"
   ]
  },
  {
   "cell_type": "markdown",
   "id": "3e284b24",
   "metadata": {},
   "source": [
    "# How to read specific columns of csv file using Pandas?\n"
   ]
  },
  {
   "cell_type": "markdown",
   "id": "7fa6d328",
   "metadata": {},
   "source": [
    "## Read specific columns from CSV:\n"
   ]
  },
  {
   "cell_type": "code",
   "execution_count": 80,
   "id": "fbd55bcb",
   "metadata": {},
   "outputs": [
    {
     "name": "stdout",
     "output_type": "stream",
     "text": [
      "     Marks\n",
      "0     1363\n",
      "1     1792\n",
      "2     1954\n",
      "3     1653\n",
      "4     1593\n",
      "..     ...\n",
      "163   1722\n",
      "164   1750\n",
      "165   1555\n",
      "166   1524\n",
      "167   1461\n",
      "\n",
      "[168 rows x 1 columns]\n"
     ]
    }
   ],
   "source": [
    "import pandas as pd\n",
    " \n",
    "df = pd.read_csv('Admittance.csv', usecols = ['Marks'])\n",
    "print(df)"
   ]
  },
  {
   "cell_type": "markdown",
   "id": "3418b0fe",
   "metadata": {},
   "source": [
    "# Pandas get list of CSV columns\n"
   ]
  },
  {
   "cell_type": "markdown",
   "id": "ee327ad6",
   "metadata": {},
   "source": [
    "## Get List of CSV columns:\n"
   ]
  },
  {
   "cell_type": "code",
   "execution_count": 81,
   "id": "3d6fc5ae",
   "metadata": {},
   "outputs": [
    {
     "name": "stdout",
     "output_type": "stream",
     "text": [
      "['Marks', 'Admitted']\n"
     ]
    }
   ],
   "source": [
    "import pandas as pd\n",
    " \n",
    "cols = list(pd.read_csv(\"Admittance.csv\", nrows =1))\n",
    "print(cols)"
   ]
  },
  {
   "cell_type": "markdown",
   "id": "1c91caf3",
   "metadata": {},
   "source": [
    "# Pandas find row where values for column is maximum\n"
   ]
  },
  {
   "cell_type": "markdown",
   "id": "3e54b87b",
   "metadata": {},
   "source": [
    "## Find row where values for column is maximum:\n"
   ]
  },
  {
   "cell_type": "code",
   "execution_count": 82,
   "id": "50f66304",
   "metadata": {},
   "outputs": [
    {
     "name": "stdout",
     "output_type": "stream",
     "text": [
      "[55]\n"
     ]
    }
   ],
   "source": [
    "import pandas as pd\n",
    " \n",
    "df = pd.DataFrame([[10, 20, 30, 40], [7, 14, 21, 28], [55, 15, 8, 12]],\n",
    "                  columns=['Apple', 'Orange', 'Banana', 'Pear'],\n",
    "                  index=['Basket1', 'Basket2', 'Basket3'])\n",
    " \n",
    "print([df['Apple'].max()])"
   ]
  },
  {
   "cell_type": "markdown",
   "id": "f1d7d65a",
   "metadata": {},
   "source": [
    "# Selecting with complex criteria using query method in Pandas\n"
   ]
  },
  {
   "cell_type": "markdown",
   "id": "76c3618e",
   "metadata": {},
   "source": [
    "## Filter data using query method:\n"
   ]
  },
  {
   "cell_type": "code",
   "execution_count": 83,
   "id": "17d66400",
   "metadata": {},
   "outputs": [
    {
     "name": "stdout",
     "output_type": "stream",
     "text": [
      "         Apple  Orange  Banana  Pear\n",
      "Basket1     10      20      30    40\n",
      "Basket2      7      14      21    28\n",
      "Basket3     55      15       8    12\n",
      "\n",
      " ----------- Filter data using query method ------------- \n",
      "\n",
      "[Index(['Basket3'], dtype='object')]\n"
     ]
    }
   ],
   "source": [
    "import pandas as pd\n",
    " \n",
    "df = pd.DataFrame([[10, 20, 30, 40], [7, 14, 21, 28], [55, 15, 8, 12]],\n",
    "                  columns=['Apple', 'Orange', 'Banana', 'Pear'],\n",
    "                  index=['Basket1', 'Basket2', 'Basket3'])\n",
    " \n",
    "print(df)\n",
    " \n",
    "print(\"\\n ----------- Filter data using query method ------------- \\n\")\n",
    "df1 = [df.query('Apple > 50 & Orange <= 15 & Banana < 15 & Pear == 12').index]\n",
    "print(df1)"
   ]
  },
  {
   "cell_type": "markdown",
   "id": "9e3dce06",
   "metadata": {},
   "source": [
    "# How to check if a column exists in Pandas?\n"
   ]
  },
  {
   "cell_type": "markdown",
   "id": "5d97b312",
   "metadata": {},
   "source": [
    "# Check if one or more columns all exist:\n"
   ]
  },
  {
   "cell_type": "code",
   "execution_count": 84,
   "id": "321fe413",
   "metadata": {},
   "outputs": [
    {
     "name": "stdout",
     "output_type": "stream",
     "text": [
      "Yes\n",
      "Yes\n"
     ]
    }
   ],
   "source": [
    "import pandas as pd\n",
    " \n",
    "df = pd.DataFrame([[10, 20, 30, 40], [7, 14, 21, 28], [55, 15, 8, 12]],\n",
    "                  columns=['Apple', 'Orange', 'Banana', 'Pear'],\n",
    "                  index=['Basket1', 'Basket2', 'Basket3'])\n",
    " \n",
    "if 'Apple' in df.columns:\n",
    "    print(\"Yes\")\n",
    "else:\n",
    "    print(\"No\")\n",
    " \n",
    " \n",
    "if set(['Apple','Orange']).issubset(df.columns):\n",
    "    print(\"Yes\")\n",
    "else:\n",
    "    print(\"No\")"
   ]
  },
  {
   "cell_type": "markdown",
   "id": "31920212",
   "metadata": {},
   "source": [
    "\n",
    "# Find n-smallest and n-largest values from DataFrame for a particular Column in Pandas\n"
   ]
  },
  {
   "cell_type": "markdown",
   "id": "2c4b50fe",
   "metadata": {},
   "source": [
    "## Locating the n-smallest and n-largest values:\n"
   ]
  },
  {
   "cell_type": "code",
   "execution_count": 85,
   "id": "e4f924e3",
   "metadata": {},
   "outputs": [
    {
     "name": "stdout",
     "output_type": "stream",
     "text": [
      "\n",
      "----------- nsmallest -----------\n",
      "\n",
      "         Apple  Orange  Banana  Pear\n",
      "Basket6      5       4       9     2\n",
      "Basket2      7      14      21    28\n",
      "\n",
      "----------- nlargest -----------\n",
      "\n",
      "         Apple  Orange  Banana  Pear\n",
      "Basket3     55      15       8    12\n",
      "Basket4     15      14       1     8\n"
     ]
    }
   ],
   "source": [
    "\n",
    "import pandas as pd\n",
    " \n",
    "df = pd.DataFrame([[10, 20, 30, 40], [7, 14, 21, 28], [55, 15, 8, 12],\n",
    "                   [15, 14, 1, 8], [7, 1, 1, 8], [5, 4, 9, 2]],\n",
    "                  columns=['Apple', 'Orange', 'Banana', 'Pear'],\n",
    "                  index=['Basket1', 'Basket2', 'Basket3', 'Basket4',\n",
    "                         'Basket5', 'Basket6'])\n",
    " \n",
    "print(\"\\n----------- nsmallest -----------\\n\")\n",
    "print(df.nsmallest(2, ['Apple']))\n",
    " \n",
    "print(\"\\n----------- nlargest -----------\\n\")\n",
    "print(df.nlargest(2, ['Apple']))"
   ]
  },
  {
   "cell_type": "markdown",
   "id": "d6932598",
   "metadata": {},
   "source": [
    "# Find minimum and maximum value of all columns from Pandas DataFrame\n"
   ]
  },
  {
   "cell_type": "markdown",
   "id": "12463261",
   "metadata": {},
   "source": [
    "## Finding minimum and maximum values:\n"
   ]
  },
  {
   "cell_type": "code",
   "execution_count": 86,
   "id": "927e055c",
   "metadata": {},
   "outputs": [
    {
     "name": "stdout",
     "output_type": "stream",
     "text": [
      "\n",
      "----------- Minimum -----------\n",
      "\n",
      "Apple     5\n",
      "Orange    1\n",
      "Banana    1\n",
      "Pear      2\n",
      "dtype: int64\n",
      "\n",
      "----------- Maximum -----------\n",
      "\n",
      "Apple     55\n",
      "Orange    20\n",
      "Banana    30\n",
      "Pear      40\n",
      "dtype: int64\n"
     ]
    }
   ],
   "source": [
    "import pandas as pd\n",
    " \n",
    "df = pd.DataFrame([[10, 20, 30, 40], [7, 14, 21, 28], [55, 15, 8, 12],\n",
    "                   [15, 14, 1, 8], [7, 1, 1, 8], [5, 4, 9, 2]],\n",
    "                  columns=['Apple', 'Orange', 'Banana', 'Pear'],\n",
    "                  index=['Basket1', 'Basket2', 'Basket3', 'Basket4',\n",
    "                         'Basket5', 'Basket6'])\n",
    " \n",
    "print(\"\\n----------- Minimum -----------\\n\")\n",
    "print(df[['Apple', 'Orange', 'Banana', 'Pear']].min())\n",
    " \n",
    "print(\"\\n----------- Maximum -----------\\n\")\n",
    "print(df[['Apple', 'Orange', 'Banana', 'Pear']].max())"
   ]
  },
  {
   "cell_type": "markdown",
   "id": "3673a6be",
   "metadata": {},
   "source": [
    "# Find the index position where the minimum and maximum value exist in Pandas DataFrame\n"
   ]
  },
  {
   "cell_type": "markdown",
   "id": "836f2d79",
   "metadata": {},
   "source": [
    "## Find index position of minimum and maximum values:\n"
   ]
  },
  {
   "cell_type": "code",
   "execution_count": 87,
   "id": "99db7064",
   "metadata": {},
   "outputs": [
    {
     "name": "stdout",
     "output_type": "stream",
     "text": [
      "\n",
      "----------- Minimum -----------\n",
      "\n",
      "Apple     5\n",
      "Orange    1\n",
      "Banana    1\n",
      "Pear      2\n",
      "dtype: int64\n",
      "\n",
      "----------- Maximum -----------\n",
      "\n",
      "Apple     55\n",
      "Orange    20\n",
      "Banana    30\n",
      "Pear      40\n",
      "dtype: int64\n"
     ]
    }
   ],
   "source": [
    "import pandas as pd\n",
    " \n",
    "df = pd.DataFrame([[10, 20, 30, 40], [7, 14, 21, 28], [55, 15, 8, 12],\n",
    "                   [15, 14, 1, 8], [7, 1, 1, 8], [5, 4, 9, 2]],\n",
    "                  columns=['Apple', 'Orange', 'Banana', 'Pear'],\n",
    "                  index=['Basket1', 'Basket2', 'Basket3', 'Basket4',\n",
    "                         'Basket5', 'Basket6'])\n",
    " \n",
    "print(\"\\n----------- Minimum -----------\\n\")\n",
    "print(df[['Apple', 'Orange', 'Banana', 'Pear']].min())\n",
    " \n",
    "print(\"\\n----------- Maximum -----------\\n\")\n",
    "print(df[['Apple', 'Orange', 'Banana', 'Pear']].max())"
   ]
  },
  {
   "cell_type": "markdown",
   "id": "c8db9a28",
   "metadata": {},
   "source": [
    "# Calculate cumulative product and cumulative sum of DataFrame Columns in Pandas"
   ]
  },
  {
   "cell_type": "markdown",
   "id": "b599ae39",
   "metadata": {},
   "source": [
    "## Calculation of a cumulative product and sum:\n"
   ]
  },
  {
   "cell_type": "code",
   "execution_count": 88,
   "id": "935acfe6",
   "metadata": {},
   "outputs": [
    {
     "name": "stdout",
     "output_type": "stream",
     "text": [
      "\n",
      "----------- Cumulative Product -----------\n",
      "\n",
      "           Apple  Orange  Banana     Pear\n",
      "Basket1       10      20      30       40\n",
      "Basket2       70     280     630     1120\n",
      "Basket3     3850    4200    5040    13440\n",
      "Basket4    57750   58800    5040   107520\n",
      "Basket5   404250   58800    5040   860160\n",
      "Basket6  2021250  235200   45360  1720320\n",
      "\n",
      "----------- Cumulative Sum -----------\n",
      "\n",
      "         Apple  Orange  Banana  Pear\n",
      "Basket1     10      20      30    40\n",
      "Basket2     17      34      51    68\n",
      "Basket3     72      49      59    80\n",
      "Basket4     87      63      60    88\n",
      "Basket5     94      64      61    96\n",
      "Basket6     99      68      70    98\n"
     ]
    }
   ],
   "source": [
    "\n",
    "import pandas as pd\n",
    " \n",
    "df = pd.DataFrame([[10, 20, 30, 40], [7, 14, 21, 28], [55, 15, 8, 12],\n",
    "                   [15, 14, 1, 8], [7, 1, 1, 8], [5, 4, 9, 2]],\n",
    "                  columns=['Apple', 'Orange', 'Banana', 'Pear'],\n",
    "                  index=['Basket1', 'Basket2', 'Basket3', 'Basket4',\n",
    "                         'Basket5', 'Basket6'])\n",
    " \n",
    "print(\"\\n----------- Cumulative Product -----------\\n\")\n",
    "print(df[['Apple', 'Orange', 'Banana', 'Pear']].cumprod())\n",
    " \n",
    "print(\"\\n----------- Cumulative Sum -----------\\n\")\n",
    "print(df[['Apple', 'Orange', 'Banana', 'Pear']].cumsum())"
   ]
  },
  {
   "cell_type": "markdown",
   "id": "5a1e63d0",
   "metadata": {},
   "source": [
    "# Describe the summary statistics of DataFrame in Pandas\n"
   ]
  },
  {
   "cell_type": "markdown",
   "id": "397341d7",
   "metadata": {},
   "source": [
    "## Summary statistics:\n"
   ]
  },
  {
   "cell_type": "code",
   "execution_count": 89,
   "id": "6a9587b1",
   "metadata": {},
   "outputs": [
    {
     "name": "stdout",
     "output_type": "stream",
     "text": [
      "\n",
      "----------- Describe DataFrame -----------\n",
      "\n",
      "           Apple     Orange     Banana       Pear\n",
      "count   6.000000   6.000000   6.000000   6.000000\n",
      "mean   16.500000  11.333333  11.666667  16.333333\n",
      "std    19.180719   7.257180  11.587349  14.555640\n",
      "min     5.000000   1.000000   1.000000   2.000000\n",
      "25%     7.000000   6.500000   2.750000   8.000000\n",
      "50%     8.500000  14.000000   8.500000  10.000000\n",
      "75%    13.750000  14.750000  18.000000  24.000000\n",
      "max    55.000000  20.000000  30.000000  40.000000\n",
      "\n",
      "----------- Describe Column -----------\n",
      "\n",
      "           Apple\n",
      "count   6.000000\n",
      "mean   16.500000\n",
      "std    19.180719\n",
      "min     5.000000\n",
      "25%     7.000000\n",
      "50%     8.500000\n",
      "75%    13.750000\n",
      "max    55.000000\n"
     ]
    }
   ],
   "source": [
    "\n",
    "import pandas as pd\n",
    " \n",
    "df = pd.DataFrame([[10, 20, 30, 40], [7, 14, 21, 28], [55, 15, 8, 12],\n",
    "                   [15, 14, 1, 8], [7, 1, 1, 8], [5, 4, 9, 2]],\n",
    "                  columns=['Apple', 'Orange', 'Banana', 'Pear'],\n",
    "                  index=['Basket1', 'Basket2', 'Basket3', 'Basket4',\n",
    "                         'Basket5', 'Basket6'])\n",
    " \n",
    "print(\"\\n----------- Describe DataFrame -----------\\n\")\n",
    "print(df.describe())\n",
    " \n",
    "print(\"\\n----------- Describe Column -----------\\n\")\n",
    "print(df[['Apple']].describe())"
   ]
  },
  {
   "cell_type": "markdown",
   "id": "63cf5b84",
   "metadata": {},
   "source": [
    "# Find Mean, Median and Mode of DataFrame in Pandas\n"
   ]
  },
  {
   "cell_type": "markdown",
   "id": "ac04dd8b",
   "metadata": {},
   "source": [
    "## Find Mean, Median and Mode:\n"
   ]
  },
  {
   "cell_type": "code",
   "execution_count": 90,
   "id": "d16c2d12",
   "metadata": {},
   "outputs": [
    {
     "name": "stdout",
     "output_type": "stream",
     "text": [
      "\n",
      "----------- Calculate Mean -----------\n",
      "\n",
      "Apple     16.500000\n",
      "Orange    11.333333\n",
      "Banana    11.666667\n",
      "Pear      16.333333\n",
      "dtype: float64\n",
      "\n",
      "----------- Calculate Median -----------\n",
      "\n",
      "Apple      8.5\n",
      "Orange    14.0\n",
      "Banana     8.5\n",
      "Pear      10.0\n",
      "dtype: float64\n",
      "\n",
      "----------- Calculate Mode -----------\n",
      "\n",
      "   Apple  Orange  Banana  Pear\n",
      "0      7      14       1     8\n"
     ]
    }
   ],
   "source": [
    "import pandas as pd\n",
    " \n",
    "df = pd.DataFrame([[10, 20, 30, 40], [7, 14, 21, 28], [55, 15, 8, 12],\n",
    "                   [15, 14, 1, 8], [7, 1, 1, 8], [5, 4, 9, 2]],\n",
    "                  columns=['Apple', 'Orange', 'Banana', 'Pear'],\n",
    "                  index=['Basket1', 'Basket2', 'Basket3', 'Basket4',\n",
    "                         'Basket5', 'Basket6'])\n",
    " \n",
    "print(\"\\n----------- Calculate Mean -----------\\n\")\n",
    "print(df.mean())\n",
    " \n",
    "print(\"\\n----------- Calculate Median -----------\\n\")\n",
    "print(df.median())\n",
    " \n",
    "print(\"\\n----------- Calculate Mode -----------\\n\")\n",
    "print(df.mode())"
   ]
  },
  {
   "cell_type": "markdown",
   "id": "2c10ae82",
   "metadata": {},
   "source": [
    "# How to measure Variance and Standard Deviation for DataFrame columns in Pandas?\n"
   ]
  },
  {
   "cell_type": "markdown",
   "id": "3b2d281d",
   "metadata": {},
   "source": [
    "## Measure Variance and Standard Deviation:\n"
   ]
  },
  {
   "cell_type": "code",
   "execution_count": 91,
   "id": "309e232d",
   "metadata": {},
   "outputs": [
    {
     "name": "stdout",
     "output_type": "stream",
     "text": [
      "Apple     19.180719\n",
      "Orange     7.257180\n",
      "Banana    11.587349\n",
      "Pear      14.555640\n",
      "dtype: float64\n",
      "\n",
      "----------- Calculate Mode -----------\n",
      "\n",
      "   Apple  Orange  Banana  Pear\n",
      "0      7      14       1     8\n"
     ]
    }
   ],
   "source": [
    "\n",
    "\n",
    "\n",
    "import pandas as pd\n",
    " \n",
    "df = pd.DataFrame([[10, 20, 30, 40], [7, 14, 21, 28], [55, 15, 8, 12],\n",
    "                   [15, 14, 1, 8], [7, 1, 1, 8], [5, 4, 9, 2]],\n",
    "                  columns=['Apple', 'Orange', 'Banana', 'Pear'],\n",
    "                  index=['Basket1', 'Basket2', 'Basket3', 'Basket4',\n",
    "                         'Basket5', 'Basket6'])\n",
    " \n",
    "\n",
    "    \n",
    " \n",
    "\n",
    "print(df.std())\n",
    " \n",
    "print(\"\\n----------- Calculate Mode -----------\\n\")\n",
    "print(df.mode())"
   ]
  },
  {
   "cell_type": "markdown",
   "id": "7a1d5aa8",
   "metadata": {},
   "source": [
    "# Calculates the covariance between columns of DataFrame in Pandas\n"
   ]
  },
  {
   "cell_type": "markdown",
   "id": "5750f9ca",
   "metadata": {},
   "source": [
    "## Calculating Covariance:\n"
   ]
  },
  {
   "cell_type": "code",
   "execution_count": 92,
   "id": "a676d58a",
   "metadata": {},
   "outputs": [
    {
     "name": "stdout",
     "output_type": "stream",
     "text": [
      "\n",
      "----------- Calculating Covariance -----------\n",
      "\n",
      "        Apple     Orange      Banana        Pear\n",
      "Apple   367.9  47.600000  -40.200000  -35.000000\n",
      "Orange   47.6  52.666667   54.333333   77.866667\n",
      "Banana  -40.2  54.333333  134.266667  154.933333\n",
      "Pear    -35.0  77.866667  154.933333  211.866667\n",
      "\n",
      "----------- Between 2 columns -----------\n",
      "\n",
      "47.6\n"
     ]
    }
   ],
   "source": [
    "\n",
    "import pandas as pd\n",
    "\n",
    "df = pd.DataFrame([[10, 20, 30, 40], [7, 14, 21, 28], [55, 15, 8, 12],\n",
    "                   [15, 14, 1, 8], [7, 1, 1, 8], [5, 4, 9, 2]],\n",
    "                  columns=['Apple', 'Orange', 'Banana', 'Pear'],\n",
    "                  index=['Basket1', 'Basket2', 'Basket3', 'Basket4',\n",
    "                         'Basket5', 'Basket6'])\n",
    " \n",
    "print(\"\\n----------- Calculating Covariance -----------\\n\")\n",
    "print(df.cov())\n",
    " \n",
    "print(\"\\n----------- Between 2 columns -----------\\n\")\n",
    "# Covariance of Apple vs Orange\n",
    "print(df.Apple.cov(df.Orange))"
   ]
  },
  {
   "cell_type": "markdown",
   "id": "a21b7803",
   "metadata": {},
   "source": [
    "# How to Calculate correlation between two DataFrame objects in Pandas?\n"
   ]
  },
  {
   "cell_type": "markdown",
   "id": "25a4fc41",
   "metadata": {},
   "source": [
    "## Calculating correlation between two DataFrame:\n"
   ]
  },
  {
   "cell_type": "code",
   "execution_count": 93,
   "id": "1048449b",
   "metadata": {},
   "outputs": [
    {
     "name": "stdout",
     "output_type": "stream",
     "text": [
      "\n",
      "------ Calculating Correlation of one DataFrame Columns -----\n",
      "\n",
      "           Apple    Orange    Banana      Pear\n",
      "Apple   1.000000  0.341959 -0.180874 -0.125364\n",
      "Orange  0.341959  1.000000  0.646122  0.737144\n",
      "Banana -0.180874  0.646122  1.000000  0.918606\n",
      "Pear   -0.125364  0.737144  0.918606  1.000000\n",
      "\n",
      "----- Calculating correlation between two DataFrame -------\n",
      "\n",
      "Apple     0.678775\n",
      "Orange    0.354993\n",
      "Banana    0.920872\n",
      "Pear      0.076919\n",
      "dtype: float64\n"
     ]
    }
   ],
   "source": [
    "import pandas as pd\n",
    "\n",
    "df1 = pd.DataFrame([[10, 20, 30, 40], [7, 14, 21, 28], [55, 15, 8, 12],\n",
    "                   [15, 14, 1, 8], [7, 1, 1, 8], [5, 4, 9, 2]],\n",
    "                  columns=['Apple', 'Orange', 'Banana', 'Pear'],\n",
    "                  index=['Basket1', 'Basket2', 'Basket3', 'Basket4',\n",
    "                         'Basket5', 'Basket6'])\n",
    " \n",
    "print(\"\\n------ Calculating Correlation of one DataFrame Columns -----\\n\")\n",
    "print(df1.corr())\n",
    " \n",
    "df2 = pd.DataFrame([[52, 54, 58, 41], [14, 24, 51, 78], [55, 15, 8, 12],\n",
    "                   [15, 14, 1, 8], [7, 17, 18, 98], [15, 34, 29, 52]],\n",
    "                  columns=['Apple', 'Orange', 'Banana', 'Pear'],\n",
    "                  index=['Basket1', 'Basket2', 'Basket3', 'Basket4',\n",
    "                         'Basket5', 'Basket6'])\n",
    " \n",
    "print(\"\\n----- Calculating correlation between two DataFrame -------\\n\")\n",
    "print(df2.corrwith(other=df1))"
   ]
  },
  {
   "cell_type": "markdown",
   "id": "b2939158",
   "metadata": {},
   "source": [
    "# How to calculate the percent change at each cell of a DataFrame columns in Pandas?\n"
   ]
  },
  {
   "cell_type": "markdown",
   "id": "67315023",
   "metadata": {},
   "source": [
    "## Calculating the percent change at each cell of a DataFrame:\n"
   ]
  },
  {
   "cell_type": "code",
   "execution_count": 94,
   "id": "2f3d641a",
   "metadata": {},
   "outputs": [
    {
     "name": "stdout",
     "output_type": "stream",
     "text": [
      "\n",
      "------ Percent change at each cell of a Column -----\n",
      "\n",
      "            Apple\n",
      "Basket1       NaN\n",
      "Basket2 -0.300000\n",
      "Basket3  6.857143\n",
      "\n",
      "------ Percent change at each cell of a DataFrame -----\n",
      "\n",
      "            Apple    Orange    Banana      Pear\n",
      "Basket1       NaN       NaN       NaN       NaN\n",
      "Basket2 -0.300000 -0.300000 -0.300000 -0.300000\n",
      "Basket3  6.857143  0.071429 -0.619048 -0.571429\n",
      "Basket4 -0.727273 -0.066667 -0.875000 -0.333333\n",
      "Basket5 -0.533333 -0.928571  0.000000  0.000000\n"
     ]
    }
   ],
   "source": [
    "import pandas as pd\n",
    "\n",
    "df = pd.DataFrame([[10, 20, 30, 40], [7, 14, 21, 28], [55, 15, 8, 12],\n",
    "                   [15, 14, 1, 8], [7, 1, 1, 8], [5, 4, 9, 2]],\n",
    "                  columns=['Apple', 'Orange', 'Banana', 'Pear'],\n",
    "                  index=['Basket1', 'Basket2', 'Basket3', 'Basket4',\n",
    "                         'Basket5', 'Basket6'])\n",
    " \n",
    "print(\"\\n------ Percent change at each cell of a Column -----\\n\")\n",
    "print(df[['Apple']].pct_change()[:3])\n",
    " \n",
    "print(\"\\n------ Percent change at each cell of a DataFrame -----\\n\")\n",
    "print(df.pct_change()[:5])"
   ]
  },
  {
   "cell_type": "markdown",
   "id": "e6907dae",
   "metadata": {},
   "source": [
    "# Forward and backward filling of missing values of DataFrame columns in Pandas?\n"
   ]
  },
  {
   "cell_type": "markdown",
   "id": "aeade96a",
   "metadata": {},
   "source": [
    "## Forward and backward filling of missing values:\n"
   ]
  },
  {
   "cell_type": "code",
   "execution_count": 95,
   "id": "767c6310",
   "metadata": {},
   "outputs": [
    {
     "name": "stdout",
     "output_type": "stream",
     "text": [
      "\n",
      "------ DataFrame with NaN -----\n",
      "\n",
      "         Apple  Orange  Banana  Pear\n",
      "Basket1   10.0    30.0    40.0   NaN\n",
      "Basket2    NaN     NaN     NaN   NaN\n",
      "Basket3   15.0     8.0    12.0   NaN\n",
      "Basket4   15.0    14.0     1.0   8.0\n",
      "Basket5    7.0     8.0     NaN   NaN\n",
      "Basket6    5.0     4.0     1.0   NaN\n",
      "\n",
      "------ DataFrame with Forward Filling -----\n",
      "\n",
      "         Apple  Orange  Banana  Pear\n",
      "Basket1   10.0    30.0    40.0   NaN\n",
      "Basket2   10.0    30.0    40.0   NaN\n",
      "Basket3   15.0     8.0    12.0   NaN\n",
      "Basket4   15.0    14.0     1.0   8.0\n",
      "Basket5    7.0     8.0     1.0   8.0\n",
      "Basket6    5.0     4.0     1.0   8.0\n",
      "\n",
      "------ DataFrame with Forward Filling -----\n",
      "\n",
      "         Apple  Orange  Banana  Pear\n",
      "Basket1   10.0    30.0    40.0   8.0\n",
      "Basket2   15.0     8.0    12.0   8.0\n",
      "Basket3   15.0     8.0    12.0   8.0\n",
      "Basket4   15.0    14.0     1.0   8.0\n",
      "Basket5    7.0     8.0     1.0   NaN\n",
      "Basket6    5.0     4.0     1.0   NaN\n"
     ]
    }
   ],
   "source": [
    "\n",
    "import pandas as pd\n",
    " \n",
    "df = pd.DataFrame([[10, 30, 40], [], [15, 8, 12],\n",
    "                   [15, 14, 1, 8], [7, 8], [5, 4, 1]],\n",
    "                  columns=['Apple', 'Orange', 'Banana', 'Pear'],\n",
    "                  index=['Basket1', 'Basket2', 'Basket3', 'Basket4',\n",
    "                         'Basket5', 'Basket6'])\n",
    " \n",
    "print(\"\\n------ DataFrame with NaN -----\\n\")\n",
    "print(df)\n",
    " \n",
    "print(\"\\n------ DataFrame with Forward Filling -----\\n\")\n",
    "print(df.ffill())\n",
    " \n",
    "print(\"\\n------ DataFrame with Forward Filling -----\\n\")\n",
    "print(df.bfill())"
   ]
  },
  {
   "cell_type": "markdown",
   "id": "c7261666",
   "metadata": {},
   "source": [
    "# How to use Stacking using non-hierarchical indexes in Pandas?\n"
   ]
  },
  {
   "cell_type": "markdown",
   "id": "b8e3313e",
   "metadata": {},
   "source": [
    "## Stacking using non-hierarchical indexes:\n"
   ]
  },
  {
   "cell_type": "code",
   "execution_count": 96,
   "id": "b35f580c",
   "metadata": {},
   "outputs": [
    {
     "name": "stdout",
     "output_type": "stream",
     "text": [
      "\n",
      "------ DataFrame-----\n",
      "\n",
      "         Apple  Orange  Banana  Pear\n",
      "Basket1   10.0    30.0    40.0   NaN\n",
      "Basket2    NaN     NaN     NaN   NaN\n",
      "Basket3   15.0     8.0    12.0   NaN\n",
      "Basket4   15.0    14.0     1.0   8.0\n",
      "Basket5    7.0     8.0     NaN   NaN\n",
      "Basket6    5.0     4.0     1.0   NaN\n",
      "\n",
      "------ Stacking DataFrame -----\n",
      "\n",
      "Basket1  Apple     10.0\n",
      "         Orange    30.0\n",
      "         Banana    40.0\n",
      "Basket3  Apple     15.0\n",
      "         Orange     8.0\n",
      "         Banana    12.0\n",
      "Basket4  Apple     15.0\n",
      "         Orange    14.0\n",
      "         Banana     1.0\n",
      "         Pear       8.0\n",
      "Basket5  Apple      7.0\n",
      "         Orange     8.0\n",
      "Basket6  Apple      5.0\n",
      "         Orange     4.0\n",
      "         Banana     1.0\n",
      "dtype: float64\n"
     ]
    }
   ],
   "source": [
    "import pandas as pd\n",
    " \n",
    "df = pd.DataFrame([[10, 30, 40], [], [15, 8, 12],\n",
    "                   [15, 14, 1, 8], [7, 8], [5, 4, 1]],\n",
    "                  columns=['Apple', 'Orange', 'Banana', 'Pear'],\n",
    "                  index=['Basket1', 'Basket2', 'Basket3', 'Basket4',\n",
    "                         'Basket5', 'Basket6'])\n",
    " \n",
    "print(\"\\n------ DataFrame-----\\n\")\n",
    "print(df)\n",
    " \n",
    "print(\"\\n------ Stacking DataFrame -----\\n\")\n",
    "print(df.stack(level=-1))"
   ]
  },
  {
   "cell_type": "markdown",
   "id": "ce730655",
   "metadata": {},
   "source": [
    "# Pandas unstacking using hierarchical indexes\n"
   ]
  },
  {
   "cell_type": "code",
   "execution_count": 97,
   "id": "0371c642",
   "metadata": {},
   "outputs": [
    {
     "name": "stdout",
     "output_type": "stream",
     "text": [
      "\n",
      "------ DataFrame-----\n",
      "\n",
      "         Apple  Orange  Banana  Pear\n",
      "Basket1   10.0    30.0    40.0   NaN\n",
      "Basket2    NaN     NaN     NaN   NaN\n",
      "Basket3   15.0     8.0    12.0   NaN\n",
      "Basket4   15.0    14.0     1.0   8.0\n",
      "Basket5    7.0     8.0     NaN   NaN\n",
      "Basket6    5.0     4.0     1.0   NaN\n",
      "\n",
      "------ Unstacking DataFrame -----\n",
      "\n",
      "Apple   Basket1    10.0\n",
      "        Basket2     NaN\n",
      "        Basket3    15.0\n",
      "        Basket4    15.0\n",
      "        Basket5     7.0\n",
      "        Basket6     5.0\n",
      "Orange  Basket1    30.0\n",
      "        Basket2     NaN\n",
      "        Basket3     8.0\n",
      "        Basket4    14.0\n",
      "        Basket5     8.0\n",
      "        Basket6     4.0\n",
      "Banana  Basket1    40.0\n",
      "        Basket2     NaN\n",
      "        Basket3    12.0\n",
      "        Basket4     1.0\n",
      "        Basket5     NaN\n",
      "        Basket6     1.0\n",
      "Pear    Basket1     NaN\n",
      "        Basket2     NaN\n",
      "        Basket3     NaN\n",
      "        Basket4     8.0\n",
      "        Basket5     NaN\n",
      "        Basket6     NaN\n",
      "dtype: float64\n"
     ]
    }
   ],
   "source": [
    "import pandas as pd\n",
    " \n",
    "df = pd.DataFrame([[10, 30, 40], [], [15, 8, 12],\n",
    "                   [15, 14, 1, 8], [7, 8], [5, 4, 1]],\n",
    "                  columns=['Apple', 'Orange', 'Banana', 'Pear'],\n",
    "                  index=['Basket1', 'Basket2', 'Basket3', 'Basket4',\n",
    "                         'Basket5', 'Basket6'])\n",
    " \n",
    "print(\"\\n------ DataFrame-----\\n\")\n",
    "print(df)\n",
    " \n",
    "print(\"\\n------ Unstacking DataFrame -----\\n\")\n",
    "print(df.unstack(level=-1))"
   ]
  }
 ],
 "metadata": {
  "kernelspec": {
   "display_name": "Python 3 (ipykernel)",
   "language": "python",
   "name": "python3"
  },
  "language_info": {
   "codemirror_mode": {
    "name": "ipython",
    "version": 3
   },
   "file_extension": ".py",
   "mimetype": "text/x-python",
   "name": "python",
   "nbconvert_exporter": "python",
   "pygments_lexer": "ipython3",
   "version": "3.9.7"
  }
 },
 "nbformat": 4,
 "nbformat_minor": 5
}
