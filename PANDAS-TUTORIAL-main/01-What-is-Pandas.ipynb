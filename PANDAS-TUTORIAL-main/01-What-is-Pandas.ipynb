{
  "cells": [
    {
      "cell_type": "markdown",
      "metadata": {
        "id": "tbywhYnLHteL"
      },
      "source": [
        "# Tutorial 1: What is Pandas?"
      ]
    },
    {
      "cell_type": "markdown",
      "metadata": {
        "id": "mkkdtLwoHteP"
      },
      "source": [
        "Pandas is one of the most important libraries of Python.\n",
        "\n",
        "Pandas has data structures for easy data analysis. The most used of these are Series and DataFrame data structures. Series data structure is one dimensional, that is, it consists of a column. DataFrame data structure is two-dimensional, i.e. it consists of rows and columns."
      ]
    },
    {
      "cell_type": "markdown",
      "metadata": {
        "id": "IaP1koHCHteQ"
      },
      "source": [
        "To install Pandas you can use \"pip install pandas\""
      ]
    },
    {
      "cell_type": "code",
      "execution_count": null,
      "metadata": {
        "id": "aNflgcUNHteQ"
      },
      "outputs": [],
      "source": [
        "import pandas as pd # Let's import pandas with pd"
      ]
    },
    {
      "cell_type": "code",
      "execution_count": null,
      "metadata": {
        "id": "GxTv5slPHteR",
        "outputId": "45bf7fae-29b7-4784-cd70-8d0ea1dc1c0f"
      },
      "outputs": [
        {
          "data": {
            "text/plain": [
              "'1.1.3'"
            ]
          },
          "execution_count": 2,
          "metadata": {},
          "output_type": "execute_result"
        }
      ],
      "source": [
        "pd.__version__ # To print the installed vesion pandas"
      ]
    }
  ],
  "metadata": {
    "kernelspec": {
      "display_name": "Python 3 (ipykernel)",
      "language": "python",
      "name": "python3"
    },
    "language_info": {
      "codemirror_mode": {
        "name": "ipython",
        "version": 3
      },
      "file_extension": ".py",
      "mimetype": "text/x-python",
      "name": "python",
      "nbconvert_exporter": "python",
      "pygments_lexer": "ipython3",
      "version": "3.9.7"
    },
    "colab": {
      "name": "01-What-is-Pandas.ipynb",
      "provenance": []
    }
  },
  "nbformat": 4,
  "nbformat_minor": 0
}